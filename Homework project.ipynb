{
 "cells": [
  {
   "cell_type": "markdown",
   "metadata": {},
   "source": [
    "# Capstone Project - The Battle of Neighborhoods (Week 1)"
   ]
  },
  {
   "cell_type": "markdown",
   "metadata": {},
   "source": [
    "## 1. Introduction of the business problem"
   ]
  },
  {
   "cell_type": "markdown",
   "metadata": {},
   "source": [
    "For restaurants business investors, there are some crucial factors determine whether you are finally successful or not. For example, if the restaurant sits on a place with abundant guest resource, or if nearby restaurants are already in good reputation can bring you high grade mature clients from the very beginning(restaurant clustering theory) and if your menu offers attractive food . \n",
    "\n",
    "So assuming here we have a new investor who is planning to open a new restaurant in New York(NY), one on-line intelligent estimation system is expected. This system simply takes some easy inputs such as the location of your targeted venue and some of the food you are planning to offer, a score will be predicted as an estimation for how successful your new business will be.\n",
    "\n",
    "To implement this system, we will explore Foursquare geographic location data and pertinent social network data, to  train a machine learning model(classification), and finally to run a back-end prediction service. \n",
    "\n",
    "It will be a free on-line service opened to the audience who are planning to open a restaurant in a certain venue in New York city by clicking on the map and input some of your special food. The investor then get a score as predicted success indicator, and the investor can simply move mouse to change position or type in new food to get different scores continuously. Through trying this service, the investor tests different combinations of better address and more attractive foods for their final success. This prediction system is very useful to help investors because the risk of restaurant investment is greatly decreased from beginning."
   ]
  },
  {
   "cell_type": "markdown",
   "metadata": {},
   "source": [
    "## 2. Data explaration "
   ]
  },
  {
   "cell_type": "markdown",
   "metadata": {},
   "source": [
    "To train the model, you will see how we step by step explore Foursquare data to construct pertinent information as reasonable feature dataset."
   ]
  },
  {
   "cell_type": "markdown",
   "metadata": {},
   "source": [
    "### 2.1 Explore the New York neighborhood location data"
   ]
  },
  {
   "cell_type": "markdown",
   "metadata": {},
   "source": [
    "To get location data, first we believe a good restaurant must own plenty of client source, i.e it can't be too far from Neighborhood where people clustered. So we uploaded total of 5 boroughs and 306 neighborhoods. In order to segment the neighborhoods and explore them, we will essentially need a dataset that contains the 5 boroughs and the neighborhoods that exist in each borough as well as the the latitude and longitude coordinates of each neighborhood."
   ]
  },
  {
   "cell_type": "code",
   "execution_count": 1,
   "metadata": {},
   "outputs": [
    {
     "name": "stdout",
     "output_type": "stream",
     "text": [
      "Libraries imported.\n"
     ]
    }
   ],
   "source": [
    "import numpy as np # library to handle data in a vectorized manner\n",
    "\n",
    "import pandas as pd # library for data analsysis\n",
    "pd.set_option('display.max_columns', None)\n",
    "pd.set_option('display.max_rows', None)\n",
    "\n",
    "import json # library to handle JSON files\n",
    "\n",
    "#!conda install -c conda-forge geopy --yes # uncomment this line if you haven't completed the Foursquare API lab\n",
    "from geopy.geocoders import Nominatim # convert an address into latitude and longitude values\n",
    "\n",
    "import requests # library to handle requests\n",
    "from pandas.io.json import json_normalize # tranform JSON file into a pandas dataframe\n",
    "\n",
    "# Matplotlib and associated plotting modules\n",
    "import matplotlib.cm as cm\n",
    "import matplotlib.colors as colors\n",
    "\n",
    "# import k-means from clustering stage\n",
    "from sklearn.cluster import KMeans\n",
    "\n",
    "#!conda install -c conda-forge folium=0.5.0 --yes # uncomment this line if you haven't completed the Foursquare API lab\n",
    "import folium # map rendering library\n",
    "\n",
    "print('Libraries imported.')"
   ]
  },
  {
   "cell_type": "code",
   "execution_count": 4,
   "metadata": {},
   "outputs": [
    {
     "name": "stdout",
     "output_type": "stream",
     "text": [
      "Data downloaded!\n"
     ]
    }
   ],
   "source": [
    "!wget -q -O 'newyork_data.json' https://cocl.us/new_york_dataset\n",
    "print('Data downloaded!')"
   ]
  },
  {
   "cell_type": "code",
   "execution_count": 5,
   "metadata": {},
   "outputs": [
    {
     "data": {
      "text/plain": [
       "(306, 4)"
      ]
     },
     "execution_count": 5,
     "metadata": {},
     "output_type": "execute_result"
    }
   ],
   "source": [
    "with open('newyork_data.json') as json_data:\n",
    "    newyork_data = json.load(json_data)\n",
    "neighborhoods_data = newyork_data['features']\n",
    "# define the dataframe columns\n",
    "column_names = ['Borough', 'Neighborhood', 'Latitude', 'Longitude']\n",
    "neighborhoods = pd.DataFrame(columns=column_names)\n",
    "for data in neighborhoods_data:\n",
    "    borough = neighborhood_name = data['properties']['borough']\n",
    "    neighborhood_name = data['properties']['name']\n",
    "\n",
    "    neighborhood_latlon = data['geometry']['coordinates']\n",
    "    neighborhood_lat = neighborhood_latlon[1]\n",
    "    neighborhood_lon = neighborhood_latlon[0]\n",
    "\n",
    "    neighborhoods = neighborhoods.append({'Borough': borough,\n",
    "                                          'Neighborhood': neighborhood_name,\n",
    "                                          'Latitude': neighborhood_lat,\n",
    "                                          'Longitude': neighborhood_lon}, ignore_index=True)\n",
    "neighborhoods.shape    "
   ]
  },
  {
   "cell_type": "code",
   "execution_count": 6,
   "metadata": {},
   "outputs": [
    {
     "name": "stdout",
     "output_type": "stream",
     "text": [
      "The dataframe has 5 boroughs and 306 neighborhoods.\n"
     ]
    }
   ],
   "source": [
    "print('The dataframe has {} boroughs and {} neighborhoods.'.format(\n",
    "        len(neighborhoods['Borough'].unique()),\n",
    "        neighborhoods.shape[0]\n",
    "    )\n",
    ")"
   ]
  },
  {
   "cell_type": "markdown",
   "metadata": {},
   "source": [
    "### 2.2 Explore the New York restaurants data\n",
    "Now that we have all the neighborhoods listed, next step we will start from here, to get all the restaurants from New York as training data. These restaurants are representative, because they are close to resident people, in other words, they are close to potential clients."
   ]
  },
  {
   "cell_type": "code",
   "execution_count": 7,
   "metadata": {},
   "outputs": [],
   "source": [
    "column_names = ['v_id', 'v_name', 'v_dist', 'v_cat']\n",
    "df1 = pd.DataFrame(columns=column_names)\n",
    "df1.set_index('v_id')\n",
    "df1.index.name = 'v_id'"
   ]
  },
  {
   "cell_type": "markdown",
   "metadata": {},
   "source": [
    "df1 will be used to host the coming restaurant data. Through Foursquare *\"search\"* API we will first get all nearby restaurants for each of the above neighborhoods, to construct a full data list of all restaurant sit near those 306 New York neighborhoods."
   ]
  },
  {
   "cell_type": "code",
   "execution_count": 9,
   "metadata": {},
   "outputs": [],
   "source": [
    "CLIENT_ID = 'BXAL1QB3NPZEI2C1G00AN1B1LMIBEO1GZBD2OHDNKGRB0S4Z' # your Foursquare ID\n",
    "CLIENT_SECRET = '4PG31ZMDFCOMG0LUPFHRJFOI2S1GHYTS1TOZU5EGJR0AK2E4' # your Foursquare Secret\n",
    "VERSION = '20190205' # Foursquare API version\n",
    "LIMIT = 1000 # limit of number of venues returned by Foursquare API\n",
    "radius = 1000 # define radius\n",
    "\n",
    "for i in range(len(neighborhoods)):\n",
    "    neighborhood_latitude   = neighborhoods.loc[i,\"Latitude\"]\n",
    "    neighborhood_longitude  = neighborhoods.loc[i,\"Longitude\"]\n",
    "    neighborhood_name       = neighborhoods.loc[i,\"Neighborhood\"]\n",
    "    neighborhood_borough    = neighborhoods.loc[i,\"Borough\"]\n",
    "#     url = 'https://api.foursquare.com/v2/venues/search?&query=Restaurant,Coffee&client_id={}&client_secret={}&v={}&ll={},{}&radius={}&limit={}'.format(\n",
    "#         CLIENT_ID,\n",
    "#         CLIENT_SECRET,\n",
    "#         VERSION,\n",
    "#         neighborhood_latitude,\n",
    "#         neighborhood_longitude,\n",
    "#         radius,\n",
    "#         LIMIT)\n",
    "#     results = requests.get(url).json()\n",
    "#     with open(\"rstlist_{}.json\".format(i), \"w\") as f:\n",
    "#         json.dump(results, f)\n",
    "\n",
    "# Don't uncomment the above code to execute because I'm registered Foursquare free developer, have only limited\n",
    "# API access everyday. So I have stored local file.\n",
    "\n",
    "    with open(\"rstlist_{}.json\".format(i),'r') as load_f:\n",
    "        results = json.load(load_f)\n",
    "# transform the ID list json dict into a DF\n",
    "    for v in results['response']['venues']:\n",
    "        v_id=v.get(\"id\")\n",
    "        v_name=v.get(\"name\")\n",
    "        v_dist=v.get(\"location\")[\"distance\"]\n",
    "        v_cat=None\n",
    "        if not(v.get(\"categories\")):continue\n",
    "        for ca in v.get(\"categories\"):\n",
    "            if ca.get(\"primary\"):v_cat=ca.get(\"name\")\n",
    "        try:\n",
    "            df1=df1.append({'v_id': v_id,\n",
    "                        'v_name': v_name,\n",
    "                        'v_dist': v_dist,\n",
    "                        'v_cat':v_cat\n",
    "                       },\n",
    "                      ignore_index=True)\n",
    "        except:pass\n",
    "    df1.to_csv('rest.csv')"
   ]
  },
  {
   "cell_type": "code",
   "execution_count": 10,
   "metadata": {},
   "outputs": [
    {
     "data": {
      "text/plain": [
       "(9390, 4)"
      ]
     },
     "execution_count": 10,
     "metadata": {},
     "output_type": "execute_result"
    }
   ],
   "source": [
    "  df1.shape"
   ]
  },
  {
   "cell_type": "code",
   "execution_count": 11,
   "metadata": {},
   "outputs": [
    {
     "data": {
      "text/html": [
       "<div>\n",
       "<style scoped>\n",
       "    .dataframe tbody tr th:only-of-type {\n",
       "        vertical-align: middle;\n",
       "    }\n",
       "\n",
       "    .dataframe tbody tr th {\n",
       "        vertical-align: top;\n",
       "    }\n",
       "\n",
       "    .dataframe thead th {\n",
       "        text-align: right;\n",
       "    }\n",
       "</style>\n",
       "<table border=\"1\" class=\"dataframe\">\n",
       "  <thead>\n",
       "    <tr style=\"text-align: right;\">\n",
       "      <th></th>\n",
       "      <th>v_id</th>\n",
       "      <th>v_name</th>\n",
       "      <th>v_dist</th>\n",
       "      <th>v_cat</th>\n",
       "    </tr>\n",
       "  </thead>\n",
       "  <tbody>\n",
       "    <tr>\n",
       "      <th>0</th>\n",
       "      <td>4db03c875da32cf2df4509f4</td>\n",
       "      <td>Big Daddy's Caribbean Taste Restaurant</td>\n",
       "      <td>1008</td>\n",
       "      <td>Caribbean Restaurant</td>\n",
       "    </tr>\n",
       "    <tr>\n",
       "      <th>1</th>\n",
       "      <td>4c66e0068e9120a15929d964</td>\n",
       "      <td>Kaieteur Restaurant &amp; Bakery</td>\n",
       "      <td>1011</td>\n",
       "      <td>Caribbean Restaurant</td>\n",
       "    </tr>\n",
       "    <tr>\n",
       "      <th>2</th>\n",
       "      <td>508af256e4b0578944c87392</td>\n",
       "      <td>Cooler Runnings Jamaican Restaurant Inc</td>\n",
       "      <td>479</td>\n",
       "      <td>Caribbean Restaurant</td>\n",
       "    </tr>\n",
       "    <tr>\n",
       "      <th>3</th>\n",
       "      <td>4be5f0eacf200f47d1fa133c</td>\n",
       "      <td>McDonald's</td>\n",
       "      <td>904</td>\n",
       "      <td>Fast Food Restaurant</td>\n",
       "    </tr>\n",
       "    <tr>\n",
       "      <th>4</th>\n",
       "      <td>4c994113a004a1cdc3393e6e</td>\n",
       "      <td>Bay 241 Restaurant &amp; Lounge</td>\n",
       "      <td>792</td>\n",
       "      <td>Caribbean Restaurant</td>\n",
       "    </tr>\n",
       "  </tbody>\n",
       "</table>\n",
       "</div>"
      ],
      "text/plain": [
       "                       v_id                                   v_name v_dist  \\\n",
       "0  4db03c875da32cf2df4509f4   Big Daddy's Caribbean Taste Restaurant   1008   \n",
       "1  4c66e0068e9120a15929d964             Kaieteur Restaurant & Bakery   1011   \n",
       "2  508af256e4b0578944c87392  Cooler Runnings Jamaican Restaurant Inc    479   \n",
       "3  4be5f0eacf200f47d1fa133c                               McDonald's    904   \n",
       "4  4c994113a004a1cdc3393e6e              Bay 241 Restaurant & Lounge    792   \n",
       "\n",
       "                  v_cat  \n",
       "0  Caribbean Restaurant  \n",
       "1  Caribbean Restaurant  \n",
       "2  Caribbean Restaurant  \n",
       "3  Fast Food Restaurant  \n",
       "4  Caribbean Restaurant  "
      ]
     },
     "execution_count": 11,
     "metadata": {},
     "output_type": "execute_result"
    }
   ],
   "source": [
    "df1.head(5)"
   ]
  },
  {
   "cell_type": "markdown",
   "metadata": {},
   "source": [
    "We have stored the basic restaurant information into a csv file as local file, the listed information include:\n",
    "* v_id: the venue id of the restaurant, we will then use this ID to approach more data around the restaurant\n",
    "* v_name: the name of the restaurant\n",
    "* c_dist: the distance from  restaurant to related neighborhood\n",
    "* v_cat: the restaurant's major category\n",
    "\n",
    "Remember each restaurant may be close to multiple neighborhoods, we need to merge them.  The next step we will add more advanced data to extend the restaurant data with more features and meanwhile remove duplication."
   ]
  },
  {
   "cell_type": "markdown",
   "metadata": {},
   "source": [
    "a reminder here: the dumped csv file above embedded some encoding bugs which cause Python decode exception error, so a special data washing is done to clean those dirty data( here manually). We then change the csv file name to \"ny_restaurant\", hence after we will use this clean data file. "
   ]
  },
  {
   "cell_type": "markdown",
   "metadata": {},
   "source": [
    "### 2.3 Explore advanced restaurants data to construct full feature \n"
   ]
  },
  {
   "cell_type": "markdown",
   "metadata": {},
   "source": [
    "__First, we come up with two new numerical features:__ \n",
    "* The average distance from one restaurant to all its nearby neighborhoods, \n",
    "* How many neighborhoods sit around a certain restaurant"
   ]
  },
  {
   "cell_type": "code",
   "execution_count": 3,
   "metadata": {},
   "outputs": [
    {
     "data": {
      "text/plain": [
       "(5290, 5)"
      ]
     },
     "execution_count": 3,
     "metadata": {},
     "output_type": "execute_result"
    }
   ],
   "source": [
    "# we have done getting a full list from NY neighborhood list\n",
    "df2=pd.read_csv('ny_restaurant.csv')\n",
    "#get how many neighborhoods this restaurant close to\n",
    "nc=df2.groupby(\"v_id\")[\"v_name\"].count()#\n",
    "\n",
    "#get how far the restaurant avg distace to all its neighborhoods\n",
    "nda=df2.groupby(\"v_id\")[\"v_dist\"].mean()\n",
    "\n",
    "df2.drop([\"v_dist\"],inplace=True,axis=1)\n",
    "df2.set_index(\"v_id\", drop=True, inplace=True)\n",
    "df2=df2[~df2.index.duplicated(keep='last')]\n",
    "df2.reindex()\n",
    "df2[\"avg_dist_2_neighborhood\"] = nda\n",
    "df2[\"cnt_near_neighborhood\"] = nc\n",
    "df2[\"restaurant_id\"]=df2.index\n",
    "\n",
    "df2.index = range(len(df2))\n",
    "df2.to_csv(\"rest_features.csv\",index=False)\n",
    "df2.shape"
   ]
  },
  {
   "cell_type": "code",
   "execution_count": 14,
   "metadata": {},
   "outputs": [
    {
     "data": {
      "text/html": [
       "<div>\n",
       "<style scoped>\n",
       "    .dataframe tbody tr th:only-of-type {\n",
       "        vertical-align: middle;\n",
       "    }\n",
       "\n",
       "    .dataframe tbody tr th {\n",
       "        vertical-align: top;\n",
       "    }\n",
       "\n",
       "    .dataframe thead th {\n",
       "        text-align: right;\n",
       "    }\n",
       "</style>\n",
       "<table border=\"1\" class=\"dataframe\">\n",
       "  <thead>\n",
       "    <tr style=\"text-align: right;\">\n",
       "      <th></th>\n",
       "      <th>v_name</th>\n",
       "      <th>v_cat</th>\n",
       "      <th>avg_dist_2_neighborhood</th>\n",
       "      <th>cnt_near_neighborhood</th>\n",
       "      <th>restaurant_id</th>\n",
       "    </tr>\n",
       "  </thead>\n",
       "  <tbody>\n",
       "    <tr>\n",
       "      <th>0</th>\n",
       "      <td>Cooler Runnings Jamaican Restaurant Inc</td>\n",
       "      <td>Caribbean Restaurant</td>\n",
       "      <td>479.0</td>\n",
       "      <td>1</td>\n",
       "      <td>508af256e4b0578944c87392</td>\n",
       "    </tr>\n",
       "    <tr>\n",
       "      <th>1</th>\n",
       "      <td>McDonald's</td>\n",
       "      <td>Fast Food Restaurant</td>\n",
       "      <td>904.0</td>\n",
       "      <td>1</td>\n",
       "      <td>4be5f0eacf200f47d1fa133c</td>\n",
       "    </tr>\n",
       "  </tbody>\n",
       "</table>\n",
       "</div>"
      ],
      "text/plain": [
       "                                    v_name                 v_cat  \\\n",
       "0  Cooler Runnings Jamaican Restaurant Inc  Caribbean Restaurant   \n",
       "1                               McDonald's  Fast Food Restaurant   \n",
       "\n",
       "   avg_dist_2_neighborhood  cnt_near_neighborhood             restaurant_id  \n",
       "0                    479.0                      1  508af256e4b0578944c87392  \n",
       "1                    904.0                      1  4be5f0eacf200f47d1fa133c  "
      ]
     },
     "execution_count": 14,
     "metadata": {},
     "output_type": "execute_result"
    }
   ],
   "source": [
    "df2.head(2)"
   ]
  },
  {
   "cell_type": "markdown",
   "metadata": {},
   "source": [
    "Form above data, you can see two new columns named __\"avg_dist_2_neighborhood\"__, and __\"cnt_near_neighborhood\"__. The useless column \"v_dist\" has been dropped off, and duplicated restaurants are also grouped in a single line in the dataframe. "
   ]
  },
  {
   "cell_type": "markdown",
   "metadata": {},
   "source": [
    "Ok, we move ahead to __add more features__ as:\n",
    "* Latitude of the restaurant\n",
    "* Longitude of the restaurant\n",
    "* Average rating of clustered restaurants where this restaurant is the centroid\n",
    "* How many recommended popular venues nearby this restaurant \n",
    "* The label(or the true target of regression) of the restaurant\n",
    "* The menu items(food) offered from this restaurant\n",
    "\n",
    "PS. don't uncomment following code, which will kill all my daily quota of Foursquare API. I will read the feature sample csv back in next cell\n"
   ]
  },
  {
   "cell_type": "code",
   "execution_count": 3,
   "metadata": {},
   "outputs": [
    {
     "data": {
      "text/plain": [
       "(35, 11)"
      ]
     },
     "execution_count": 3,
     "metadata": {},
     "output_type": "execute_result"
    }
   ],
   "source": [
    "# Don't be surprised if you see I store csv and then load it back, becasue I have only free developer access to\n",
    "# Foursquare, I have to have some intermid file to save my daily API visit quota. \n",
    "\n",
    "\n",
    "# df2=pd.read_csv(\"rest_features.csv\")\n",
    "# we will add more features to the dataframe\n",
    "# df2[\"lat\"]=None  # Latitude of the restaurant\n",
    "# df2[\"lng\"]=None  # Longitude of the restaurant\n",
    "# df2[\"avg_rate\"]=None # average rating of clustered restraurants where this restaurant is the centroid\n",
    "# df2[\"nearby_rec\"]=None  #how many recomended popular venus nearby this restaurant \n",
    "# df2[\"rating\"]=None      # this is the label(or the true target of regression) of the restaurant\n",
    "# df2[\"menu\"]=None        # the menu items(food) offerred from this restaurant\n",
    "\n",
    "# for i in range(len(df2)):\n",
    "#     rid= df2.iloc[i][\"restaurant_id\"]\n",
    "#     rname=df2.iloc[i][\"v_name\"]\n",
    "#     url = 'https://api.foursquare.com/v2/venues/{}?client_id={}&client_secret={}&v={}'.format(\n",
    "#         rid,\n",
    "#         CLIENT_ID,\n",
    "#         CLIENT_SECRET,\n",
    "#         VERSION)\n",
    "    # result= requests.get(url).json()    #\n",
    "    # with open(\"venues_{}.json\".format(i), \"w\") as f:\n",
    "    #             json.dump(result, f)\n",
    "#     try:\n",
    "#         with open(\"venues_{}.json\".format(i),'r') as load_f: result = json.load(load_f)\n",
    "#     except:\n",
    "#        break\n",
    "        # continue\n",
    "    # 2.0 get restaurant detail info\n",
    "#     v_ll=[result['response']['venue'][\"location\"][\"lat\"],result['response']['venue'][\"location\"][\"lng\"]]\n",
    "#     v_rating=result['response']['venue'].get('rating')\n",
    "#     df2.loc[i,  \"lat\"] = v_ll[0]\n",
    "#     df2.loc[i, \"lng\"]  = v_ll[1]\n",
    "#     df2.loc[i, \"rating\"] = v_rating\n",
    " # 2.1 now let's get the restaurant menu\n",
    "#     hasmenu=result['response']['venue'].get('hasMenu')\n",
    "#     v_menu=[]\n",
    "#     if not(hasmenu):\n",
    "#         pass\n",
    "#     else:\n",
    "#         # url = 'https://api.foursquare.com/v2/venues/{}/menu?client_id={}&client_secret={}&v={}'.format(\n",
    "#         #     rid,\n",
    "#         #     CLIENT_ID,\n",
    "#         #     CLIENT_SECRET,\n",
    "#         #     VERSION)\n",
    "#         # menus = requests.get(url).json()\n",
    "#         # with open(\"menu_{}.json\".format(i), \"w\") as f:\n",
    "#         #     json.dump(menus, f)\n",
    "#         try:\n",
    "#             with open(\"menu_{}.json\".format(i), \"r\") as mf: menus = json.load(mf)\n",
    "#             mc = menus['response']['menu']['menus']['count']\n",
    "#             if mc!=0:\n",
    "#                 v_menu=get_menu_item(menus['response']['menu']['menus'][\"items\"])\n",
    "#         except:pass\n",
    "#     df2.loc[i,\"menu\"] = \"|\".join(v_menu)\n",
    "\n",
    "#     # 2.2 to get how many hot spot nearby the restaurant(popular venues)\n",
    "#     url = 'https://api.foursquare.com/v2/venues/explore?&client_id={}&client_secret={}&v={}&ll={},{}&radius={}&limit={}&\\\n",
    "#           query=food, drinks, coffee, shops, arts, outdoors, sights, trending'.format(\n",
    "#         CLIENT_ID,\n",
    "#         CLIENT_SECRET,\n",
    "#         VERSION,\n",
    "#         v_ll[0],\n",
    "#         v_ll[1],\n",
    "#         500,\n",
    "#         10)\n",
    "#     recommends = requests.get(url).json()\n",
    "#     venues = recommends['response']['groups'][0]['items']\n",
    "#     v_count_n = len(venues)\n",
    "#     print(v_count_n,\"recommends found\")\n",
    "#     df2.loc[i,\"nearby_rec\"]=v_count_n\n",
    "#     print(df2.loc[i])\n",
    "\n",
    "#     v_nearby_rt = 0.0\n",
    "#     if v_count_n>0:\n",
    "#         nearby_venues = json_normalize(venues)  # flatten JSON into dataframe\n",
    "#         filtered_columns = ['venue.id','venue.name', 'venue.categories']\n",
    "#         nearby_venues = nearby_venues.loc[:, filtered_columns]\n",
    "#         nearby_venues.columns = [col.split(\".\")[-1] for col in nearby_venues.columns]\n",
    "#         #to count the average rating near by this rest\n",
    "#         nb=0\n",
    "#         for j in range(v_count_n):\n",
    "#             print(nearby_venues.loc[j])\n",
    "#             r_id = nearby_venues.loc[j,\"id\"]\n",
    "#             url = 'https://api.foursquare.com/v2/venues/{}?client_id={}&client_secret={}&v={}'.format(\n",
    "#                 r_id,\n",
    "#                 CLIENT_ID,\n",
    "#                 CLIENT_SECRET,\n",
    "#                 VERSION)\n",
    "#             rst= requests.get(url).json()\n",
    "#             if not (rst): continue\n",
    "#             try:\n",
    "#                 rating = rst['response']['venue']['rating']\n",
    "#                 if not (rating): rating=0\n",
    "#                 else:nb+=1\n",
    "#             except:\n",
    "#                 rating=0\n",
    "#             v_nearby_rt=v_nearby_rt+float(rating)\n",
    "#         if not(nb):v_nearby_rt=0\n",
    "#         else: v_nearby_rt=v_nearby_rt/nb\n",
    "#     df2.loc[i,\"avg_rate\"] = v_nearby_rt\n",
    "#     df2.to_csv(\"restaurant_data.csv\",index=False)\n",
    "\n",
    "df2=pd.read_csv(\"NY_restaurant_data.csv\") # here we load part of the data as sample to have a look\n",
    "df2.shape    "
   ]
  },
  {
   "cell_type": "code",
   "execution_count": 5,
   "metadata": {},
   "outputs": [
    {
     "data": {
      "text/html": [
       "<div>\n",
       "<style scoped>\n",
       "    .dataframe tbody tr th:only-of-type {\n",
       "        vertical-align: middle;\n",
       "    }\n",
       "\n",
       "    .dataframe tbody tr th {\n",
       "        vertical-align: top;\n",
       "    }\n",
       "\n",
       "    .dataframe thead th {\n",
       "        text-align: right;\n",
       "    }\n",
       "</style>\n",
       "<table border=\"1\" class=\"dataframe\">\n",
       "  <thead>\n",
       "    <tr style=\"text-align: right;\">\n",
       "      <th></th>\n",
       "      <th>v_name</th>\n",
       "      <th>v_cat</th>\n",
       "      <th>avg_dist_2_neighborhood</th>\n",
       "      <th>cnt_near_neighborhood</th>\n",
       "      <th>restaurant_id</th>\n",
       "      <th>lat</th>\n",
       "      <th>lng</th>\n",
       "      <th>avg_rate</th>\n",
       "      <th>nearby_rec</th>\n",
       "      <th>rating</th>\n",
       "      <th>menu</th>\n",
       "    </tr>\n",
       "  </thead>\n",
       "  <tbody>\n",
       "    <tr>\n",
       "      <th>0</th>\n",
       "      <td>Cooler Runnings Jamaican Restaurant Inc</td>\n",
       "      <td>Caribbean Restaurant</td>\n",
       "      <td>479.0</td>\n",
       "      <td>1</td>\n",
       "      <td>508af256e4b0578944c87392</td>\n",
       "      <td>40.898276</td>\n",
       "      <td>-73.850381</td>\n",
       "      <td>6.416667</td>\n",
       "      <td>10</td>\n",
       "      <td>6.5</td>\n",
       "      <td>NaN</td>\n",
       "    </tr>\n",
       "    <tr>\n",
       "      <th>1</th>\n",
       "      <td>McDonald's</td>\n",
       "      <td>Fast Food Restaurant</td>\n",
       "      <td>904.0</td>\n",
       "      <td>1</td>\n",
       "      <td>4be5f0eacf200f47d1fa133c</td>\n",
       "      <td>40.902645</td>\n",
       "      <td>-73.849485</td>\n",
       "      <td>6.400000</td>\n",
       "      <td>13</td>\n",
       "      <td>6.5</td>\n",
       "      <td>Big Mac??|Cheeseburger|Double Cheeseburger|Ham...</td>\n",
       "    </tr>\n",
       "    <tr>\n",
       "      <th>2</th>\n",
       "      <td>241 St Cafe &amp; Restaurant</td>\n",
       "      <td>American Restaurant</td>\n",
       "      <td>1019.0</td>\n",
       "      <td>1</td>\n",
       "      <td>4c010e75cf3aa593825eccb0</td>\n",
       "      <td>40.903573</td>\n",
       "      <td>-73.850228</td>\n",
       "      <td>6.400000</td>\n",
       "      <td>12</td>\n",
       "      <td>6.6</td>\n",
       "      <td>NaN</td>\n",
       "    </tr>\n",
       "    <tr>\n",
       "      <th>3</th>\n",
       "      <td>Ripe Kitchen &amp; Bar</td>\n",
       "      <td>Caribbean Restaurant</td>\n",
       "      <td>798.0</td>\n",
       "      <td>1</td>\n",
       "      <td>4d375ce799fe8eec99fd2355</td>\n",
       "      <td>40.898152</td>\n",
       "      <td>-73.838875</td>\n",
       "      <td>6.700000</td>\n",
       "      <td>14</td>\n",
       "      <td>8.7</td>\n",
       "      <td>Cuban Plantain Boat|Jerk Chicken Quesadilla|St...</td>\n",
       "    </tr>\n",
       "    <tr>\n",
       "      <th>4</th>\n",
       "      <td>Townhouse Restaurant</td>\n",
       "      <td>Restaurant</td>\n",
       "      <td>218.0</td>\n",
       "      <td>1</td>\n",
       "      <td>4be2b79d660ec9284d04ca3b</td>\n",
       "      <td>40.876086</td>\n",
       "      <td>-73.828868</td>\n",
       "      <td>5.900000</td>\n",
       "      <td>10</td>\n",
       "      <td>5.6</td>\n",
       "      <td>NaN</td>\n",
       "    </tr>\n",
       "  </tbody>\n",
       "</table>\n",
       "</div>"
      ],
      "text/plain": [
       "                                    v_name                 v_cat  \\\n",
       "0  Cooler Runnings Jamaican Restaurant Inc  Caribbean Restaurant   \n",
       "1                               McDonald's  Fast Food Restaurant   \n",
       "2                 241 St Cafe & Restaurant   American Restaurant   \n",
       "3                       Ripe Kitchen & Bar  Caribbean Restaurant   \n",
       "4                     Townhouse Restaurant            Restaurant   \n",
       "\n",
       "   avg_dist_2_neighborhood  cnt_near_neighborhood             restaurant_id  \\\n",
       "0                    479.0                      1  508af256e4b0578944c87392   \n",
       "1                    904.0                      1  4be5f0eacf200f47d1fa133c   \n",
       "2                   1019.0                      1  4c010e75cf3aa593825eccb0   \n",
       "3                    798.0                      1  4d375ce799fe8eec99fd2355   \n",
       "4                    218.0                      1  4be2b79d660ec9284d04ca3b   \n",
       "\n",
       "         lat        lng  avg_rate  nearby_rec  rating  \\\n",
       "0  40.898276 -73.850381  6.416667          10     6.5   \n",
       "1  40.902645 -73.849485  6.400000          13     6.5   \n",
       "2  40.903573 -73.850228  6.400000          12     6.6   \n",
       "3  40.898152 -73.838875  6.700000          14     8.7   \n",
       "4  40.876086 -73.828868  5.900000          10     5.6   \n",
       "\n",
       "                                                menu  \n",
       "0                                                NaN  \n",
       "1  Big Mac??|Cheeseburger|Double Cheeseburger|Ham...  \n",
       "2                                                NaN  \n",
       "3  Cuban Plantain Boat|Jerk Chicken Quesadilla|St...  \n",
       "4                                                NaN  "
      ]
     },
     "execution_count": 5,
     "metadata": {},
     "output_type": "execute_result"
    }
   ],
   "source": [
    "df2.head(5)"
   ]
  },
  {
   "cell_type": "markdown",
   "metadata": {},
   "source": [
    "We got all the information about the restaurant, almost ready to fit for the machine learning models, let's define a dictionary:"
   ]
  },
  {
   "cell_type": "markdown",
   "metadata": {},
   "source": [
    "|Attribute Name|Data description |Data Type|Potential Contribution|\n",
    "|:-|-|-|-|\n",
    "|v_name|Restaurant name|String|n/a|\n",
    "|v_cat|Category|Foursquare Category|certain Category maybe special popular, more easily catch eyes \n",
    "|avg_dist_2_neighborhood|Average distance from this restaurant  to all its nearby neighborhoods|float|the lower means distance closer to potential clients|\n",
    "|cnt_near_neighborhood|how many nearby neighborhoods are close to this restaurant , for example with 1 km|int|the more means more potential clients |\n",
    "|restaurant_id|Venue ID |Foursquare ID |n/a\n",
    "|lat|latitude|float|n/a|\n",
    "|lng|longitude|float|n/a|\n",
    "|avg_rate|Average rating  of nearby popular sites(such as food, drinks, coffee, shops, arts, outdoors,etc.) |float|the higher, the more possibility for stable client source|\n",
    "|nearby_rec|the total number of popular sites recommended from Foursquare which centriod by the restaurant |int|the higher, the more possibility for stable client source|\n",
    "|menu|special food offered|list of food items|will do text clustering first before used for classification model|\n",
    "|rating|the restaurant rating( how good the restaurant is)|float/classification|the label or target value(y)|\n"
   ]
  },
  {
   "cell_type": "markdown",
   "metadata": {},
   "source": [
    "And before training the model, we have a quick look on the brief of the data"
   ]
  },
  {
   "cell_type": "code",
   "execution_count": 8,
   "metadata": {},
   "outputs": [
    {
     "data": {
      "text/html": [
       "<div>\n",
       "<style scoped>\n",
       "    .dataframe tbody tr th:only-of-type {\n",
       "        vertical-align: middle;\n",
       "    }\n",
       "\n",
       "    .dataframe tbody tr th {\n",
       "        vertical-align: top;\n",
       "    }\n",
       "\n",
       "    .dataframe thead th {\n",
       "        text-align: right;\n",
       "    }\n",
       "</style>\n",
       "<table border=\"1\" class=\"dataframe\">\n",
       "  <thead>\n",
       "    <tr style=\"text-align: right;\">\n",
       "      <th></th>\n",
       "      <th>v_name</th>\n",
       "      <th>v_cat</th>\n",
       "      <th>avg_dist_2_neighborhood</th>\n",
       "      <th>cnt_near_neighborhood</th>\n",
       "      <th>restaurant_id</th>\n",
       "      <th>lat</th>\n",
       "      <th>lng</th>\n",
       "      <th>avg_rate</th>\n",
       "      <th>nearby_rec</th>\n",
       "      <th>rating</th>\n",
       "      <th>menu</th>\n",
       "    </tr>\n",
       "  </thead>\n",
       "  <tbody>\n",
       "    <tr>\n",
       "      <th>count</th>\n",
       "      <td>35</td>\n",
       "      <td>35</td>\n",
       "      <td>35.000000</td>\n",
       "      <td>35.000000</td>\n",
       "      <td>35</td>\n",
       "      <td>35.000000</td>\n",
       "      <td>35.000000</td>\n",
       "      <td>35.000000</td>\n",
       "      <td>35.000000</td>\n",
       "      <td>35.000000</td>\n",
       "      <td>12</td>\n",
       "    </tr>\n",
       "    <tr>\n",
       "      <th>unique</th>\n",
       "      <td>35</td>\n",
       "      <td>19</td>\n",
       "      <td>NaN</td>\n",
       "      <td>NaN</td>\n",
       "      <td>35</td>\n",
       "      <td>NaN</td>\n",
       "      <td>NaN</td>\n",
       "      <td>NaN</td>\n",
       "      <td>NaN</td>\n",
       "      <td>NaN</td>\n",
       "      <td>12</td>\n",
       "    </tr>\n",
       "    <tr>\n",
       "      <th>top</th>\n",
       "      <td>Irish Coffee Shop</td>\n",
       "      <td>Seafood Restaurant</td>\n",
       "      <td>NaN</td>\n",
       "      <td>NaN</td>\n",
       "      <td>4ba53e04f964a520a7f038e3</td>\n",
       "      <td>NaN</td>\n",
       "      <td>NaN</td>\n",
       "      <td>NaN</td>\n",
       "      <td>NaN</td>\n",
       "      <td>NaN</td>\n",
       "      <td>Meatball Parmigiana|Sausage Parmigiana|Chicken...</td>\n",
       "    </tr>\n",
       "    <tr>\n",
       "      <th>freq</th>\n",
       "      <td>1</td>\n",
       "      <td>7</td>\n",
       "      <td>NaN</td>\n",
       "      <td>NaN</td>\n",
       "      <td>1</td>\n",
       "      <td>NaN</td>\n",
       "      <td>NaN</td>\n",
       "      <td>NaN</td>\n",
       "      <td>NaN</td>\n",
       "      <td>NaN</td>\n",
       "      <td>1</td>\n",
       "    </tr>\n",
       "    <tr>\n",
       "      <th>mean</th>\n",
       "      <td>NaN</td>\n",
       "      <td>NaN</td>\n",
       "      <td>694.123810</td>\n",
       "      <td>1.257143</td>\n",
       "      <td>NaN</td>\n",
       "      <td>40.878044</td>\n",
       "      <td>-73.847987</td>\n",
       "      <td>6.986190</td>\n",
       "      <td>14.228571</td>\n",
       "      <td>6.988571</td>\n",
       "      <td>NaN</td>\n",
       "    </tr>\n",
       "    <tr>\n",
       "      <th>std</th>\n",
       "      <td>NaN</td>\n",
       "      <td>NaN</td>\n",
       "      <td>264.504109</td>\n",
       "      <td>0.505433</td>\n",
       "      <td>NaN</td>\n",
       "      <td>0.020961</td>\n",
       "      <td>0.039913</td>\n",
       "      <td>0.777318</td>\n",
       "      <td>6.000420</td>\n",
       "      <td>0.923475</td>\n",
       "      <td>NaN</td>\n",
       "    </tr>\n",
       "    <tr>\n",
       "      <th>min</th>\n",
       "      <td>NaN</td>\n",
       "      <td>NaN</td>\n",
       "      <td>137.000000</td>\n",
       "      <td>1.000000</td>\n",
       "      <td>NaN</td>\n",
       "      <td>40.837673</td>\n",
       "      <td>-73.904301</td>\n",
       "      <td>5.800000</td>\n",
       "      <td>10.000000</td>\n",
       "      <td>5.200000</td>\n",
       "      <td>NaN</td>\n",
       "    </tr>\n",
       "    <tr>\n",
       "      <th>25%</th>\n",
       "      <td>NaN</td>\n",
       "      <td>NaN</td>\n",
       "      <td>501.500000</td>\n",
       "      <td>1.000000</td>\n",
       "      <td>NaN</td>\n",
       "      <td>40.868684</td>\n",
       "      <td>-73.880813</td>\n",
       "      <td>6.400000</td>\n",
       "      <td>10.000000</td>\n",
       "      <td>6.250000</td>\n",
       "      <td>NaN</td>\n",
       "    </tr>\n",
       "    <tr>\n",
       "      <th>50%</th>\n",
       "      <td>NaN</td>\n",
       "      <td>NaN</td>\n",
       "      <td>746.000000</td>\n",
       "      <td>1.000000</td>\n",
       "      <td>NaN</td>\n",
       "      <td>40.882620</td>\n",
       "      <td>-73.850381</td>\n",
       "      <td>6.900000</td>\n",
       "      <td>11.000000</td>\n",
       "      <td>6.800000</td>\n",
       "      <td>NaN</td>\n",
       "    </tr>\n",
       "    <tr>\n",
       "      <th>75%</th>\n",
       "      <td>NaN</td>\n",
       "      <td>NaN</td>\n",
       "      <td>882.500000</td>\n",
       "      <td>1.000000</td>\n",
       "      <td>NaN</td>\n",
       "      <td>40.892583</td>\n",
       "      <td>-73.826776</td>\n",
       "      <td>7.550000</td>\n",
       "      <td>17.000000</td>\n",
       "      <td>7.700000</td>\n",
       "      <td>NaN</td>\n",
       "    </tr>\n",
       "    <tr>\n",
       "      <th>max</th>\n",
       "      <td>NaN</td>\n",
       "      <td>NaN</td>\n",
       "      <td>1243.000000</td>\n",
       "      <td>3.000000</td>\n",
       "      <td>NaN</td>\n",
       "      <td>40.904888</td>\n",
       "      <td>-73.782695</td>\n",
       "      <td>8.700000</td>\n",
       "      <td>31.000000</td>\n",
       "      <td>8.800000</td>\n",
       "      <td>NaN</td>\n",
       "    </tr>\n",
       "  </tbody>\n",
       "</table>\n",
       "</div>"
      ],
      "text/plain": [
       "                   v_name               v_cat  avg_dist_2_neighborhood  \\\n",
       "count                  35                  35                35.000000   \n",
       "unique                 35                  19                      NaN   \n",
       "top     Irish Coffee Shop  Seafood Restaurant                      NaN   \n",
       "freq                    1                   7                      NaN   \n",
       "mean                  NaN                 NaN               694.123810   \n",
       "std                   NaN                 NaN               264.504109   \n",
       "min                   NaN                 NaN               137.000000   \n",
       "25%                   NaN                 NaN               501.500000   \n",
       "50%                   NaN                 NaN               746.000000   \n",
       "75%                   NaN                 NaN               882.500000   \n",
       "max                   NaN                 NaN              1243.000000   \n",
       "\n",
       "        cnt_near_neighborhood             restaurant_id        lat        lng  \\\n",
       "count               35.000000                        35  35.000000  35.000000   \n",
       "unique                    NaN                        35        NaN        NaN   \n",
       "top                       NaN  4ba53e04f964a520a7f038e3        NaN        NaN   \n",
       "freq                      NaN                         1        NaN        NaN   \n",
       "mean                 1.257143                       NaN  40.878044 -73.847987   \n",
       "std                  0.505433                       NaN   0.020961   0.039913   \n",
       "min                  1.000000                       NaN  40.837673 -73.904301   \n",
       "25%                  1.000000                       NaN  40.868684 -73.880813   \n",
       "50%                  1.000000                       NaN  40.882620 -73.850381   \n",
       "75%                  1.000000                       NaN  40.892583 -73.826776   \n",
       "max                  3.000000                       NaN  40.904888 -73.782695   \n",
       "\n",
       "         avg_rate  nearby_rec     rating  \\\n",
       "count   35.000000   35.000000  35.000000   \n",
       "unique        NaN         NaN        NaN   \n",
       "top           NaN         NaN        NaN   \n",
       "freq          NaN         NaN        NaN   \n",
       "mean     6.986190   14.228571   6.988571   \n",
       "std      0.777318    6.000420   0.923475   \n",
       "min      5.800000   10.000000   5.200000   \n",
       "25%      6.400000   10.000000   6.250000   \n",
       "50%      6.900000   11.000000   6.800000   \n",
       "75%      7.550000   17.000000   7.700000   \n",
       "max      8.700000   31.000000   8.800000   \n",
       "\n",
       "                                                     menu  \n",
       "count                                                  12  \n",
       "unique                                                 12  \n",
       "top     Meatball Parmigiana|Sausage Parmigiana|Chicken...  \n",
       "freq                                                    1  \n",
       "mean                                                  NaN  \n",
       "std                                                   NaN  \n",
       "min                                                   NaN  \n",
       "25%                                                   NaN  \n",
       "50%                                                   NaN  \n",
       "75%                                                   NaN  \n",
       "max                                                   NaN  "
      ]
     },
     "execution_count": 8,
     "metadata": {},
     "output_type": "execute_result"
    }
   ],
   "source": [
    "df2.describe(include='all')"
   ]
  },
  {
   "cell_type": "markdown",
   "metadata": {},
   "source": [
    "Notice: additional action needed for the the *\"menu\"* attribute as we can't use it in classification model directly. We need to vectorize it and cluster the menus to quantify them. This part will be introduced in the *Text Clustering* model in the next segment."
   ]
  },
  {
   "cell_type": "code",
   "execution_count": null,
   "metadata": {},
   "outputs": [],
   "source": []
  }
 ],
 "metadata": {
  "kernelspec": {
   "display_name": "Python 3",
   "language": "python",
   "name": "python3"
  },
  "language_info": {
   "codemirror_mode": {
    "name": "ipython",
    "version": 3
   },
   "file_extension": ".py",
   "mimetype": "text/x-python",
   "name": "python",
   "nbconvert_exporter": "python",
   "pygments_lexer": "ipython3",
   "version": "3.6.5"
  }
 },
 "nbformat": 4,
 "nbformat_minor": 2
}
