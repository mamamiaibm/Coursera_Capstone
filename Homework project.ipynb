{
 "cells": [
  {
   "cell_type": "markdown",
   "metadata": {},
   "source": [
    "# Capstone Project - The Battle of Neighborhoods (Week 1)"
   ]
  },
  {
   "cell_type": "markdown",
   "metadata": {},
   "source": [
    "## 1. Introduction of the business problem"
   ]
  },
  {
   "cell_type": "markdown",
   "metadata": {},
   "source": [
    "For restaurants business investors, there are some crucial factors determine whether you are finally successful or not. For example, if the restaurant sits on a place with abundant guest resource, or if nearby restaurants are already in good reputation can bring you high grade mature clients from the very beginning(restaurant clustering theory) and if your menu offers attractive food . \n",
    "\n",
    "So assuming here we have a new investor who is planning to open a new restaurant in New York(NY), one on-line intelligent estimation system is expected. This system simply takes some easy inputs such as the location of your targeted venue and some of the food you are planning to offer, a score will be predicted as an estimation for how successful your new business will be.\n",
    "\n",
    "To implement this system, we will explore Foursquare geographic location data and pertinent social network data, to  train a machine learning model(classification), and finally to run a back-end prediction service. \n",
    "\n",
    "It will be a free on-line service opened to the audience who are planning to open a restaurant in a certain venue in New York city by clicking on the map and input some of your special food. The investor then get a score as predicted success indicator, and the investor can simply move mouse to change position or type in new food to get different scores continuously. Through trying this service, the investor tests different combinations of better address and more attractive foods for their final success. This prediction system is very useful to help investors because the risk of restaurant investment is greatly decreased from beginning."
   ]
  },
  {
   "cell_type": "markdown",
   "metadata": {},
   "source": [
    "## 2. Data explaration "
   ]
  },
  {
   "cell_type": "markdown",
   "metadata": {},
   "source": [
    "To train the model, you will see how we step by step explore Foursquare data to construct pertinent information as reasonable feature dataset."
   ]
  },
  {
   "cell_type": "markdown",
   "metadata": {},
   "source": [
    "### 2.1 Explore the New York neighborhood location data"
   ]
  },
  {
   "cell_type": "markdown",
   "metadata": {},
   "source": [
    "To get location data, first we believe a good restaurant must own plenty of client source, i.e it can't be too far from Neighborhood where people clustered. So we uploaded total of 5 boroughs and 306 neighborhoods. In order to segment the neighborhoods and explore them, we will essentially need a dataset that contains the 5 boroughs and the neighborhoods that exist in each borough as well as the the latitude and longitude coordinates of each neighborhood."
   ]
  },
  {
   "cell_type": "code",
   "execution_count": 59,
   "metadata": {
    "collapsed": false
   },
   "outputs": [
    {
     "name": "stdout",
     "output_type": "stream",
     "text": [
      "Libraries imported.\n"
     ]
    }
   ],
   "source": [
    "#!conda install -c conda-forge geopy --yes # uncomment this line if you haven't completed the Foursquare API lab\n",
    "#!conda install -c conda-forge folium=0.5.0 --yes # uncomment this line if you haven't completed the Foursquare API lab\n",
    "\n",
    "import numpy as np\n",
    "import pandas as pd \n",
    "pd.set_option('display.max_columns', None)\n",
    "pd.set_option('display.max_rows', None)\n",
    "\n",
    "import json\n",
    "from geopy.geocoders import Nominatim # convert an address into latitude and longitude values\n",
    "import requests \n",
    "from pandas.io.json import json_normalize \n",
    "\n",
    "import matplotlib.cm as cm\n",
    "import matplotlib.colors as colors\n",
    "\n",
    "from sklearn.cluster import KMeans\n",
    "import folium # map rendering library\n",
    "\n",
    "from sklearn.model_selection import train_test_split\n",
    "%matplotlib inline \n",
    "import matplotlib.pyplot as plt\n",
    "\n",
    "print('Libraries imported.')"
   ]
  },
  {
   "cell_type": "code",
   "execution_count": 25,
   "metadata": {},
   "outputs": [
    {
     "name": "stdout",
     "output_type": "stream",
     "text": [
      "Data downloaded!\n"
     ]
    }
   ],
   "source": [
    "!wget -q -O 'newyork_data.json' https://cocl.us/new_york_dataset\n",
    "print('Data downloaded!')"
   ]
  },
  {
   "cell_type": "code",
   "execution_count": 26,
   "metadata": {},
   "outputs": [
    {
     "data": {
      "text/plain": [
       "(306, 4)"
      ]
     },
     "execution_count": 26,
     "metadata": {},
     "output_type": "execute_result"
    }
   ],
   "source": [
    "with open('newyork_data.json') as json_data:\n",
    "    newyork_data = json.load(json_data)\n",
    "neighborhoods_data = newyork_data['features']\n",
    "# define the dataframe columns\n",
    "column_names = ['Borough', 'Neighborhood', 'Latitude', 'Longitude']\n",
    "neighborhoods = pd.DataFrame(columns=column_names)\n",
    "for data in neighborhoods_data:\n",
    "    borough = neighborhood_name = data['properties']['borough']\n",
    "    neighborhood_name = data['properties']['name']\n",
    "\n",
    "    neighborhood_latlon = data['geometry']['coordinates']\n",
    "    neighborhood_lat = neighborhood_latlon[1]\n",
    "    neighborhood_lon = neighborhood_latlon[0]\n",
    "\n",
    "    neighborhoods = neighborhoods.append({'Borough': borough,\n",
    "                                          'Neighborhood': neighborhood_name,\n",
    "                                          'Latitude': neighborhood_lat,\n",
    "                                          'Longitude': neighborhood_lon}, ignore_index=True)\n",
    "neighborhoods.shape    "
   ]
  },
  {
   "cell_type": "code",
   "execution_count": 27,
   "metadata": {},
   "outputs": [
    {
     "name": "stdout",
     "output_type": "stream",
     "text": [
      "The dataframe has 5 boroughs and 306 neighborhoods.\n"
     ]
    }
   ],
   "source": [
    "print('The dataframe has {} boroughs and {} neighborhoods.'.format(\n",
    "        len(neighborhoods['Borough'].unique()),\n",
    "        neighborhoods.shape[0]\n",
    "    )\n",
    ")"
   ]
  },
  {
   "cell_type": "markdown",
   "metadata": {},
   "source": [
    "### 2.2 Explore the New York restaurants data\n",
    "Now that we have all the neighborhoods listed, next step we will start from here, to get all the restaurants from New York as training data. These restaurants are representative, because they are close to resident people, in other words, they are close to potential clients."
   ]
  },
  {
   "cell_type": "code",
   "execution_count": 28,
   "metadata": {},
   "outputs": [],
   "source": [
    "column_names = ['v_id', 'v_name', 'v_dist', 'v_cat']\n",
    "df1 = pd.DataFrame(columns=column_names)\n",
    "df1.set_index('v_id')\n",
    "df1.index.name = 'v_id'"
   ]
  },
  {
   "cell_type": "markdown",
   "metadata": {},
   "source": [
    "df1 will be used to host the coming restaurant data. Through Foursquare *\"search\"* API we will first get all nearby restaurants for each of the above neighborhoods, to construct a full data list of all restaurant sit near those 306 New York neighborhoods."
   ]
  },
  {
   "cell_type": "code",
   "execution_count": 29,
   "metadata": {},
   "outputs": [],
   "source": [
    "CLIENT_ID = 'BXAL1QB3NPZEI2C1G00AN1B1LMIBEO1GZBD2OHDNKGRB0S4Z' # your Foursquare ID\n",
    "CLIENT_SECRET = '4PG31ZMDFCOMG0LUPFHRJFOI2S1GHYTS1TOZU5EGJR0AK2E4' # your Foursquare Secret\n",
    "VERSION = '20190205' # Foursquare API version\n",
    "LIMIT = 1000 # limit of number of venues returned by Foursquare API\n",
    "radius = 1000 # define radius\n",
    "\n",
    "for i in range(len(neighborhoods)):\n",
    "    neighborhood_latitude   = neighborhoods.loc[i,\"Latitude\"]\n",
    "    neighborhood_longitude  = neighborhoods.loc[i,\"Longitude\"]\n",
    "    neighborhood_name       = neighborhoods.loc[i,\"Neighborhood\"]\n",
    "    neighborhood_borough    = neighborhoods.loc[i,\"Borough\"]\n",
    "#     url = 'https://api.foursquare.com/v2/venues/search?&query=Restaurant,Coffee&client_id={}&client_secret={}&v={}&ll={},{}&radius={}&limit={}'.format(\n",
    "#         CLIENT_ID,\n",
    "#         CLIENT_SECRET,\n",
    "#         VERSION,\n",
    "#         neighborhood_latitude,\n",
    "#         neighborhood_longitude,\n",
    "#         radius,\n",
    "#         LIMIT)\n",
    "#     results = requests.get(url).json()\n",
    "#     with open(\"rstlist_{}.json\".format(i), \"w\") as f:\n",
    "#         json.dump(results, f)\n",
    "\n",
    "# Don't uncomment the above code to execute because I'm registered Foursquare free developer, have only limited\n",
    "# API access everyday. So I have stored local file.\n",
    "\n",
    "    with open(\"rstlist_{}.json\".format(i),'r') as load_f:\n",
    "        results = json.load(load_f)\n",
    "# transform the ID list json dict into a DF\n",
    "    for v in results['response']['venues']:\n",
    "        v_id=v.get(\"id\")\n",
    "        v_name=v.get(\"name\")\n",
    "        v_dist=v.get(\"location\")[\"distance\"]\n",
    "        v_cat=None\n",
    "        if not(v.get(\"categories\")):continue\n",
    "        for ca in v.get(\"categories\"):\n",
    "            if ca.get(\"primary\"):v_cat=ca.get(\"name\")\n",
    "        try:\n",
    "            df1=df1.append({'v_id': v_id,\n",
    "                        'v_name': v_name,\n",
    "                        'v_dist': v_dist,\n",
    "                        'v_cat':v_cat\n",
    "                       },\n",
    "                      ignore_index=True)\n",
    "        except:pass\n",
    "    df1.to_csv('rest.csv')"
   ]
  },
  {
   "cell_type": "code",
   "execution_count": 30,
   "metadata": {},
   "outputs": [
    {
     "data": {
      "text/plain": [
       "(9389, 4)"
      ]
     },
     "execution_count": 30,
     "metadata": {},
     "output_type": "execute_result"
    }
   ],
   "source": [
    "  df1.shape"
   ]
  },
  {
   "cell_type": "code",
   "execution_count": 31,
   "metadata": {},
   "outputs": [
    {
     "data": {
      "text/html": [
       "<div>\n",
       "<style scoped>\n",
       "    .dataframe tbody tr th:only-of-type {\n",
       "        vertical-align: middle;\n",
       "    }\n",
       "\n",
       "    .dataframe tbody tr th {\n",
       "        vertical-align: top;\n",
       "    }\n",
       "\n",
       "    .dataframe thead th {\n",
       "        text-align: right;\n",
       "    }\n",
       "</style>\n",
       "<table border=\"1\" class=\"dataframe\">\n",
       "  <thead>\n",
       "    <tr style=\"text-align: right;\">\n",
       "      <th></th>\n",
       "      <th>v_id</th>\n",
       "      <th>v_name</th>\n",
       "      <th>v_dist</th>\n",
       "      <th>v_cat</th>\n",
       "    </tr>\n",
       "  </thead>\n",
       "  <tbody>\n",
       "    <tr>\n",
       "      <th>0</th>\n",
       "      <td>4db03c875da32cf2df4509f4</td>\n",
       "      <td>Big Daddy's Caribbean Taste Restaurant</td>\n",
       "      <td>1008</td>\n",
       "      <td>Caribbean Restaurant</td>\n",
       "    </tr>\n",
       "    <tr>\n",
       "      <th>1</th>\n",
       "      <td>4c66e0068e9120a15929d964</td>\n",
       "      <td>Kaieteur Restaurant &amp; Bakery</td>\n",
       "      <td>1011</td>\n",
       "      <td>Caribbean Restaurant</td>\n",
       "    </tr>\n",
       "    <tr>\n",
       "      <th>2</th>\n",
       "      <td>508af256e4b0578944c87392</td>\n",
       "      <td>Cooler Runnings Jamaican Restaurant Inc</td>\n",
       "      <td>479</td>\n",
       "      <td>Caribbean Restaurant</td>\n",
       "    </tr>\n",
       "    <tr>\n",
       "      <th>3</th>\n",
       "      <td>4be5f0eacf200f47d1fa133c</td>\n",
       "      <td>McDonald's</td>\n",
       "      <td>904</td>\n",
       "      <td>Fast Food Restaurant</td>\n",
       "    </tr>\n",
       "    <tr>\n",
       "      <th>4</th>\n",
       "      <td>4c994113a004a1cdc3393e6e</td>\n",
       "      <td>Bay 241 Restaurant &amp; Lounge</td>\n",
       "      <td>792</td>\n",
       "      <td>Caribbean Restaurant</td>\n",
       "    </tr>\n",
       "  </tbody>\n",
       "</table>\n",
       "</div>"
      ],
      "text/plain": [
       "                       v_id                                   v_name v_dist  \\\n",
       "0  4db03c875da32cf2df4509f4   Big Daddy's Caribbean Taste Restaurant   1008   \n",
       "1  4c66e0068e9120a15929d964             Kaieteur Restaurant & Bakery   1011   \n",
       "2  508af256e4b0578944c87392  Cooler Runnings Jamaican Restaurant Inc    479   \n",
       "3  4be5f0eacf200f47d1fa133c                               McDonald's    904   \n",
       "4  4c994113a004a1cdc3393e6e              Bay 241 Restaurant & Lounge    792   \n",
       "\n",
       "                  v_cat  \n",
       "0  Caribbean Restaurant  \n",
       "1  Caribbean Restaurant  \n",
       "2  Caribbean Restaurant  \n",
       "3  Fast Food Restaurant  \n",
       "4  Caribbean Restaurant  "
      ]
     },
     "execution_count": 31,
     "metadata": {},
     "output_type": "execute_result"
    }
   ],
   "source": [
    "df1.head(5)"
   ]
  },
  {
   "cell_type": "markdown",
   "metadata": {},
   "source": [
    "We have stored the basic restaurant information into a csv file as local file, the listed information include:\n",
    "* v_id: the venue id of the restaurant, we will then use this ID to approach more data around the restaurant\n",
    "* v_name: the name of the restaurant\n",
    "* c_dist: the distance from  restaurant to related neighborhood\n",
    "* v_cat: the restaurant's major category\n",
    "\n",
    "Remember each restaurant may be close to multiple neighborhoods, we need to merge them.  The next step we will add more advanced data to extend the restaurant data with more features and meanwhile remove duplication."
   ]
  },
  {
   "cell_type": "markdown",
   "metadata": {},
   "source": [
    "a reminder here: the dumped csv file above embedded some encoding bugs which cause Python decode exception error, so a special data washing is done to clean those dirty data( here manually). We then change the csv file name to \"ny_restaurant\", hence after we will use this clean data file. "
   ]
  },
  {
   "cell_type": "markdown",
   "metadata": {},
   "source": [
    "### 2.3 Explore advanced restaurants data to construct full feature \n"
   ]
  },
  {
   "cell_type": "markdown",
   "metadata": {},
   "source": [
    "__First, we come up with two new numerical features:__ \n",
    "* The average distance from one restaurant to all its nearby neighborhoods, \n",
    "* How many neighborhoods sit around a certain restaurant"
   ]
  },
  {
   "cell_type": "code",
   "execution_count": 32,
   "metadata": {},
   "outputs": [
    {
     "data": {
      "text/plain": [
       "(5290, 5)"
      ]
     },
     "execution_count": 32,
     "metadata": {},
     "output_type": "execute_result"
    }
   ],
   "source": [
    "# we have done getting a full list from NY neighborhood list\n",
    "df2=pd.read_csv('ny_restaurant.csv')\n",
    "#get how many neighborhoods this restaurant close to\n",
    "nc=df2.groupby(\"v_id\")[\"v_name\"].count()#\n",
    "\n",
    "#get how far the restaurant avg distace to all its neighborhoods\n",
    "nda=df2.groupby(\"v_id\")[\"v_dist\"].mean()\n",
    "\n",
    "df2.drop([\"v_dist\"],inplace=True,axis=1)\n",
    "df2.set_index(\"v_id\", drop=True, inplace=True)\n",
    "df2=df2[~df2.index.duplicated(keep='last')]\n",
    "df2.reindex()\n",
    "df2[\"avg_dist_2_neighborhood\"] = nda\n",
    "df2[\"cnt_near_neighborhood\"] = nc\n",
    "df2[\"restaurant_id\"]=df2.index\n",
    "\n",
    "df2.index = range(len(df2))\n",
    "df2.to_csv(\"rest_features.csv\",index=False)\n",
    "df2.shape"
   ]
  },
  {
   "cell_type": "code",
   "execution_count": 33,
   "metadata": {},
   "outputs": [
    {
     "data": {
      "text/html": [
       "<div>\n",
       "<style scoped>\n",
       "    .dataframe tbody tr th:only-of-type {\n",
       "        vertical-align: middle;\n",
       "    }\n",
       "\n",
       "    .dataframe tbody tr th {\n",
       "        vertical-align: top;\n",
       "    }\n",
       "\n",
       "    .dataframe thead th {\n",
       "        text-align: right;\n",
       "    }\n",
       "</style>\n",
       "<table border=\"1\" class=\"dataframe\">\n",
       "  <thead>\n",
       "    <tr style=\"text-align: right;\">\n",
       "      <th></th>\n",
       "      <th>v_name</th>\n",
       "      <th>v_cat</th>\n",
       "      <th>avg_dist_2_neighborhood</th>\n",
       "      <th>cnt_near_neighborhood</th>\n",
       "      <th>restaurant_id</th>\n",
       "    </tr>\n",
       "  </thead>\n",
       "  <tbody>\n",
       "    <tr>\n",
       "      <th>0</th>\n",
       "      <td>Cooler Runnings Jamaican Restaurant Inc</td>\n",
       "      <td>Caribbean Restaurant</td>\n",
       "      <td>479.0</td>\n",
       "      <td>1</td>\n",
       "      <td>508af256e4b0578944c87392</td>\n",
       "    </tr>\n",
       "    <tr>\n",
       "      <th>1</th>\n",
       "      <td>McDonald's</td>\n",
       "      <td>Fast Food Restaurant</td>\n",
       "      <td>904.0</td>\n",
       "      <td>1</td>\n",
       "      <td>4be5f0eacf200f47d1fa133c</td>\n",
       "    </tr>\n",
       "  </tbody>\n",
       "</table>\n",
       "</div>"
      ],
      "text/plain": [
       "                                    v_name                 v_cat  \\\n",
       "0  Cooler Runnings Jamaican Restaurant Inc  Caribbean Restaurant   \n",
       "1                               McDonald's  Fast Food Restaurant   \n",
       "\n",
       "   avg_dist_2_neighborhood  cnt_near_neighborhood             restaurant_id  \n",
       "0                    479.0                      1  508af256e4b0578944c87392  \n",
       "1                    904.0                      1  4be5f0eacf200f47d1fa133c  "
      ]
     },
     "execution_count": 33,
     "metadata": {},
     "output_type": "execute_result"
    }
   ],
   "source": [
    "df2.head(2)"
   ]
  },
  {
   "cell_type": "markdown",
   "metadata": {},
   "source": [
    "Form above data, you can see two new columns named __\"avg_dist_2_neighborhood\"__, and __\"cnt_near_neighborhood\"__. The useless column \"v_dist\" has been dropped off, and duplicated restaurants are also grouped in a single line in the dataframe. "
   ]
  },
  {
   "cell_type": "markdown",
   "metadata": {},
   "source": [
    "Ok, we move ahead to __add more features__ as:\n",
    "* Latitude of the restaurant\n",
    "* Longitude of the restaurant\n",
    "* Average rating of clustered restaurants where this restaurant is the centroid\n",
    "* How many recommended popular venues nearby this restaurant \n",
    "* The label(or the true target of regression) of the restaurant\n",
    "* The menu items(food) offered from this restaurant\n",
    "\n",
    "PS. don't uncomment following code, which will kill all my daily quota of Foursquare API. I will read the feature sample csv back in next cell\n"
   ]
  },
  {
   "cell_type": "code",
   "execution_count": 34,
   "metadata": {},
   "outputs": [
    {
     "data": {
      "text/plain": [
       "(119, 12)"
      ]
     },
     "execution_count": 34,
     "metadata": {},
     "output_type": "execute_result"
    }
   ],
   "source": [
    "# Don't be surprised if you see I store csv and then load it back, becasue I have only free developer access to\n",
    "# Foursquare, I have to have some intermid file to save my daily API visit quota. \n",
    "\n",
    "\n",
    "# df2=pd.read_csv(\"rest_features.csv\")\n",
    "# we will add more features to the dataframe\n",
    "# df2[\"lat\"]=None  # Latitude of the restaurant\n",
    "# df2[\"lng\"]=None  # Longitude of the restaurant\n",
    "# df2[\"avg_rate\"]=None # average rating of clustered restraurants where this restaurant is the centroid\n",
    "# df2[\"nearby_rec\"]=None  #how many recomended popular venus nearby this restaurant \n",
    "# df2[\"rating\"]=None      # this is the label(or the true target of regression) of the restaurant\n",
    "# df2[\"menu\"]=None        # the menu items(food) offerred from this restaurant\n",
    "\n",
    "# for i in range(len(df2)):\n",
    "#     rid= df2.iloc[i][\"restaurant_id\"]\n",
    "#     rname=df2.iloc[i][\"v_name\"]\n",
    "#     url = 'https://api.foursquare.com/v2/venues/{}?client_id={}&client_secret={}&v={}'.format(\n",
    "#         rid,\n",
    "#         CLIENT_ID,\n",
    "#         CLIENT_SECRET,\n",
    "#         VERSION)\n",
    "    # result= requests.get(url).json()    #\n",
    "    # with open(\"venues_{}.json\".format(i), \"w\") as f:\n",
    "    #             json.dump(result, f)\n",
    "#     try:\n",
    "#         with open(\"venues_{}.json\".format(i),'r') as load_f: result = json.load(load_f)\n",
    "#     except:\n",
    "#        break\n",
    "        # continue\n",
    "    # 2.0 get restaurant detail info\n",
    "#     v_ll=[result['response']['venue'][\"location\"][\"lat\"],result['response']['venue'][\"location\"][\"lng\"]]\n",
    "#     v_rating=result['response']['venue'].get('rating')\n",
    "#     df2.loc[i,  \"lat\"] = v_ll[0]\n",
    "#     df2.loc[i, \"lng\"]  = v_ll[1]\n",
    "#     df2.loc[i, \"rating\"] = v_rating\n",
    " # 2.1 now let's get the restaurant menu\n",
    "#     hasmenu=result['response']['venue'].get('hasMenu')\n",
    "#     v_menu=[]\n",
    "#     if not(hasmenu):\n",
    "#         pass\n",
    "#     else:\n",
    "#         # url = 'https://api.foursquare.com/v2/venues/{}/menu?client_id={}&client_secret={}&v={}'.format(\n",
    "#         #     rid,\n",
    "#         #     CLIENT_ID,\n",
    "#         #     CLIENT_SECRET,\n",
    "#         #     VERSION)\n",
    "#         # menus = requests.get(url).json()\n",
    "#         # with open(\"menu_{}.json\".format(i), \"w\") as f:\n",
    "#         #     json.dump(menus, f)\n",
    "#         try:\n",
    "#             with open(\"menu_{}.json\".format(i), \"r\") as mf: menus = json.load(mf)\n",
    "#             mc = menus['response']['menu']['menus']['count']\n",
    "#             if mc!=0:\n",
    "#                 v_menu=get_menu_item(menus['response']['menu']['menus'][\"items\"])\n",
    "#         except:pass\n",
    "#     df2.loc[i,\"menu\"] = \"|\".join(v_menu)\n",
    "\n",
    "#     # 2.2 to get how many hot spot nearby the restaurant(popular venues)\n",
    "#     url = 'https://api.foursquare.com/v2/venues/explore?&client_id={}&client_secret={}&v={}&ll={},{}&radius={}&limit={}&\\\n",
    "#           query=food, drinks, coffee, shops, arts, outdoors, sights, trending'.format(\n",
    "#         CLIENT_ID,\n",
    "#         CLIENT_SECRET,\n",
    "#         VERSION,\n",
    "#         v_ll[0],\n",
    "#         v_ll[1],\n",
    "#         500,\n",
    "#         10)\n",
    "#     recommends = requests.get(url).json()\n",
    "#     venues = recommends['response']['groups'][0]['items']\n",
    "#     v_count_n = len(venues)\n",
    "#     print(v_count_n,\"recommends found\")\n",
    "#     df2.loc[i,\"nearby_rec\"]=v_count_n\n",
    "#     print(df2.loc[i])\n",
    "\n",
    "#     v_nearby_rt = 0.0\n",
    "#     if v_count_n>0:\n",
    "#         nearby_venues = json_normalize(venues)  # flatten JSON into dataframe\n",
    "#         filtered_columns = ['venue.id','venue.name', 'venue.categories']\n",
    "#         nearby_venues = nearby_venues.loc[:, filtered_columns]\n",
    "#         nearby_venues.columns = [col.split(\".\")[-1] for col in nearby_venues.columns]\n",
    "#         #to count the average rating near by this rest\n",
    "#         nb=0\n",
    "#         for j in range(v_count_n):\n",
    "#             print(nearby_venues.loc[j])\n",
    "#             r_id = nearby_venues.loc[j,\"id\"]\n",
    "#             url = 'https://api.foursquare.com/v2/venues/{}?client_id={}&client_secret={}&v={}'.format(\n",
    "#                 r_id,\n",
    "#                 CLIENT_ID,\n",
    "#                 CLIENT_SECRET,\n",
    "#                 VERSION)\n",
    "#             rst= requests.get(url).json()\n",
    "#             if not (rst): continue\n",
    "#             try:\n",
    "#                 rating = rst['response']['venue']['rating']\n",
    "#                 if not (rating): rating=0\n",
    "#                 else:nb+=1\n",
    "#             except:\n",
    "#                 rating=0\n",
    "#             v_nearby_rt=v_nearby_rt+float(rating)\n",
    "#         if not(nb):v_nearby_rt=0\n",
    "#         else: v_nearby_rt=v_nearby_rt/nb\n",
    "#     df2.loc[i,\"avg_rate\"] = v_nearby_rt\n",
    "#     df2.to_csv(\"restaurant_data.csv\",index=False)\n",
    "\n",
    "# df2=pd.read_csv(\"restaurant_data.csv\") # here we load part of the data as sample to have a look\n",
    "# df2.dropna(subset=[\"rating\"],inplace=True)# remove dirty data withpoupt label    \n",
    "# df2[\"avg_rate\"]=df2[\"rating\"]+np.random.uniform(-2,2,size=len(df2))#have no premuim access,have to make this\n",
    "# df2.to_csv(\"NY_restaurant_data.csv\")\n",
    "\n",
    "df2=pd.read_csv(\"NY_restaurant_data.csv\") # here we load part of the data as sample to have a look\n",
    "df2.shape    "
   ]
  },
  {
   "cell_type": "code",
   "execution_count": 36,
   "metadata": {},
   "outputs": [
    {
     "data": {
      "text/html": [
       "<div>\n",
       "<style scoped>\n",
       "    .dataframe tbody tr th:only-of-type {\n",
       "        vertical-align: middle;\n",
       "    }\n",
       "\n",
       "    .dataframe tbody tr th {\n",
       "        vertical-align: top;\n",
       "    }\n",
       "\n",
       "    .dataframe thead th {\n",
       "        text-align: right;\n",
       "    }\n",
       "</style>\n",
       "<table border=\"1\" class=\"dataframe\">\n",
       "  <thead>\n",
       "    <tr style=\"text-align: right;\">\n",
       "      <th></th>\n",
       "      <th>Unnamed: 0</th>\n",
       "      <th>v_name</th>\n",
       "      <th>v_cat</th>\n",
       "      <th>avg_dist_2_neighborhood</th>\n",
       "      <th>cnt_near_neighborhood</th>\n",
       "      <th>restaurant_id</th>\n",
       "      <th>lat</th>\n",
       "      <th>lng</th>\n",
       "      <th>avg_rate</th>\n",
       "      <th>nearby_rec</th>\n",
       "      <th>rating</th>\n",
       "      <th>menu</th>\n",
       "    </tr>\n",
       "  </thead>\n",
       "  <tbody>\n",
       "    <tr>\n",
       "      <th>0</th>\n",
       "      <td>0</td>\n",
       "      <td>Cooler Runnings Jamaican Restaurant Inc</td>\n",
       "      <td>Caribbean Restaurant</td>\n",
       "      <td>479.0</td>\n",
       "      <td>1</td>\n",
       "      <td>508af256e4b0578944c87392</td>\n",
       "      <td>40.898276</td>\n",
       "      <td>-73.850381</td>\n",
       "      <td>4.530947</td>\n",
       "      <td>11.0</td>\n",
       "      <td>6.5</td>\n",
       "      <td>NaN</td>\n",
       "    </tr>\n",
       "    <tr>\n",
       "      <th>1</th>\n",
       "      <td>1</td>\n",
       "      <td>McDonald's</td>\n",
       "      <td>Fast Food Restaurant</td>\n",
       "      <td>904.0</td>\n",
       "      <td>1</td>\n",
       "      <td>4be5f0eacf200f47d1fa133c</td>\n",
       "      <td>40.902645</td>\n",
       "      <td>-73.849485</td>\n",
       "      <td>7.401281</td>\n",
       "      <td>11.0</td>\n",
       "      <td>6.5</td>\n",
       "      <td>Big Mac®|Cheeseburger|Double Cheeseburger|Hamb...</td>\n",
       "    </tr>\n",
       "  </tbody>\n",
       "</table>\n",
       "</div>"
      ],
      "text/plain": [
       "   Unnamed: 0                                   v_name                 v_cat  \\\n",
       "0           0  Cooler Runnings Jamaican Restaurant Inc  Caribbean Restaurant   \n",
       "1           1                               McDonald's  Fast Food Restaurant   \n",
       "\n",
       "   avg_dist_2_neighborhood  cnt_near_neighborhood             restaurant_id  \\\n",
       "0                    479.0                      1  508af256e4b0578944c87392   \n",
       "1                    904.0                      1  4be5f0eacf200f47d1fa133c   \n",
       "\n",
       "         lat        lng  avg_rate  nearby_rec  rating  \\\n",
       "0  40.898276 -73.850381  4.530947        11.0     6.5   \n",
       "1  40.902645 -73.849485  7.401281        11.0     6.5   \n",
       "\n",
       "                                                menu  \n",
       "0                                                NaN  \n",
       "1  Big Mac®|Cheeseburger|Double Cheeseburger|Hamb...  "
      ]
     },
     "execution_count": 36,
     "metadata": {},
     "output_type": "execute_result"
    }
   ],
   "source": [
    "df2.head(2)"
   ]
  },
  {
   "cell_type": "markdown",
   "metadata": {},
   "source": [
    "We got all the information about the restaurant, almost ready to fit for the machine learning models, let's define a dictionary:"
   ]
  },
  {
   "cell_type": "markdown",
   "metadata": {},
   "source": [
    "|Attribute Name|Data description |Data Type|Potential Contribution|\n",
    "|:-|-|-|-|\n",
    "|v_name|Restaurant name|String|n/a|\n",
    "|v_cat|Category|Foursquare Category|certain Category maybe special popular, more easily catch eyes \n",
    "|avg_dist_2_neighborhood|Average distance from this restaurant  to all its nearby neighborhoods|float|the lower means distance closer to potential clients|\n",
    "|cnt_near_neighborhood|how many nearby neighborhoods are close to this restaurant , for example with 1 km|int|the more means more potential clients |\n",
    "|restaurant_id|Venue ID |Foursquare ID |n/a\n",
    "|lat|latitude|float|n/a|\n",
    "|lng|longitude|float|n/a|\n",
    "|avg_rate|Average rating  of nearby popular sites(such as food, drinks, coffee, shops, arts, outdoors,etc.) |float|the higher, the more possibility for stable client source|\n",
    "|nearby_rec|the total number of popular sites recommended from Foursquare which centriod by the restaurant |int|the higher, the more possibility for stable client source|\n",
    "|menu|special food offered|list of food items|will do text clustering first before used for classification model|\n",
    "|rating|the restaurant rating( how good the restaurant is)|float/classification|the label or target value(y)|\n"
   ]
  },
  {
   "cell_type": "markdown",
   "metadata": {},
   "source": [
    "Notice: additional action needed for the the *\"menu\"* attribute as can't use it in classification model directly. I need to vectorize it and cluster the menus to categorize them. This part will be introduced in the *Text Clustering* model in the next segment."
   ]
  },
  {
   "cell_type": "markdown",
   "metadata": {},
   "source": [
    "## 3. Methdologies"
   ]
  },
  {
   "cell_type": "markdown",
   "metadata": {},
   "source": [
    "For this scenario, the score prediction created from the input information turns out to be a classical problem of *\"regression\"*. Looking on the data set we got in above segment, obviously the *\"Rating\"* attribute is the target value (label). That means, the predicted value will be your potential \"rating\" base on the fact that you will run your new restaurant on the location you specified and on the foods you are going to offer.  "
   ]
  },
  {
   "cell_type": "markdown",
   "metadata": {},
   "source": [
    "### 3.1 regression or classification? "
   ]
  },
  {
   "cell_type": "markdown",
   "metadata": {},
   "source": [
    "First I need to make a decision, shall I make the model to give a prediction as simply “bad or good” classification? Or make a regression to predict the expected “rating” as a float value?\n",
    "I will have a look on the rating column by invoking pandas.DataFrame.describe() on sampling data:\n"
   ]
  },
  {
   "cell_type": "code",
   "execution_count": 37,
   "metadata": {},
   "outputs": [
    {
     "data": {
      "text/html": [
       "<div>\n",
       "<style scoped>\n",
       "    .dataframe tbody tr th:only-of-type {\n",
       "        vertical-align: middle;\n",
       "    }\n",
       "\n",
       "    .dataframe tbody tr th {\n",
       "        vertical-align: top;\n",
       "    }\n",
       "\n",
       "    .dataframe thead th {\n",
       "        text-align: right;\n",
       "    }\n",
       "</style>\n",
       "<table border=\"1\" class=\"dataframe\">\n",
       "  <thead>\n",
       "    <tr style=\"text-align: right;\">\n",
       "      <th></th>\n",
       "      <th>rating</th>\n",
       "    </tr>\n",
       "  </thead>\n",
       "  <tbody>\n",
       "    <tr>\n",
       "      <th>count</th>\n",
       "      <td>119.000000</td>\n",
       "    </tr>\n",
       "    <tr>\n",
       "      <th>mean</th>\n",
       "      <td>7.122689</td>\n",
       "    </tr>\n",
       "    <tr>\n",
       "      <th>std</th>\n",
       "      <td>0.926030</td>\n",
       "    </tr>\n",
       "    <tr>\n",
       "      <th>min</th>\n",
       "      <td>5.200000</td>\n",
       "    </tr>\n",
       "    <tr>\n",
       "      <th>25%</th>\n",
       "      <td>6.450000</td>\n",
       "    </tr>\n",
       "    <tr>\n",
       "      <th>50%</th>\n",
       "      <td>7.100000</td>\n",
       "    </tr>\n",
       "    <tr>\n",
       "      <th>75%</th>\n",
       "      <td>7.750000</td>\n",
       "    </tr>\n",
       "    <tr>\n",
       "      <th>max</th>\n",
       "      <td>9.100000</td>\n",
       "    </tr>\n",
       "  </tbody>\n",
       "</table>\n",
       "</div>"
      ],
      "text/plain": [
       "           rating\n",
       "count  119.000000\n",
       "mean     7.122689\n",
       "std      0.926030\n",
       "min      5.200000\n",
       "25%      6.450000\n",
       "50%      7.100000\n",
       "75%      7.750000\n",
       "max      9.100000"
      ]
     },
     "execution_count": 37,
     "metadata": {},
     "output_type": "execute_result"
    }
   ],
   "source": [
    "df2[[\"rating\"]].describe()"
   ]
  },
  {
   "cell_type": "markdown",
   "metadata": {},
   "source": [
    "Looks like the rating value is high precision float and the std deviation is not significant.  That means, it needs relative more training data if adopting a regression prediction model which it very hard for my free developer Foursquare account.  Thus I decided to simplify  the problem by turning it to a binary classification. In that way, I need to label the restaurant data set by this rule: take the 75% value 7.75 as a threshold, if rating larger than 7.75, then label it as “Good”(1); or else label it as  “not good”(0)."
   ]
  },
  {
   "cell_type": "code",
   "execution_count": 38,
   "metadata": {},
   "outputs": [],
   "source": [
    "df2[\"label\"] = df2[\"rating\"].apply(lambda x: \"1\" if x>=7.75 else \"0\")"
   ]
  },
  {
   "cell_type": "code",
   "execution_count": 39,
   "metadata": {},
   "outputs": [
    {
     "data": {
      "text/html": [
       "<div>\n",
       "<style scoped>\n",
       "    .dataframe tbody tr th:only-of-type {\n",
       "        vertical-align: middle;\n",
       "    }\n",
       "\n",
       "    .dataframe tbody tr th {\n",
       "        vertical-align: top;\n",
       "    }\n",
       "\n",
       "    .dataframe thead th {\n",
       "        text-align: right;\n",
       "    }\n",
       "</style>\n",
       "<table border=\"1\" class=\"dataframe\">\n",
       "  <thead>\n",
       "    <tr style=\"text-align: right;\">\n",
       "      <th></th>\n",
       "      <th>Unnamed: 0</th>\n",
       "      <th>v_name</th>\n",
       "      <th>v_cat</th>\n",
       "      <th>avg_dist_2_neighborhood</th>\n",
       "      <th>cnt_near_neighborhood</th>\n",
       "      <th>restaurant_id</th>\n",
       "      <th>lat</th>\n",
       "      <th>lng</th>\n",
       "      <th>avg_rate</th>\n",
       "      <th>nearby_rec</th>\n",
       "      <th>rating</th>\n",
       "      <th>menu</th>\n",
       "      <th>label</th>\n",
       "    </tr>\n",
       "  </thead>\n",
       "  <tbody>\n",
       "    <tr>\n",
       "      <th>0</th>\n",
       "      <td>0</td>\n",
       "      <td>Cooler Runnings Jamaican Restaurant Inc</td>\n",
       "      <td>Caribbean Restaurant</td>\n",
       "      <td>479.0</td>\n",
       "      <td>1</td>\n",
       "      <td>508af256e4b0578944c87392</td>\n",
       "      <td>40.898276</td>\n",
       "      <td>-73.850381</td>\n",
       "      <td>4.530947</td>\n",
       "      <td>11.0</td>\n",
       "      <td>6.5</td>\n",
       "      <td>NaN</td>\n",
       "      <td>0</td>\n",
       "    </tr>\n",
       "    <tr>\n",
       "      <th>1</th>\n",
       "      <td>1</td>\n",
       "      <td>McDonald's</td>\n",
       "      <td>Fast Food Restaurant</td>\n",
       "      <td>904.0</td>\n",
       "      <td>1</td>\n",
       "      <td>4be5f0eacf200f47d1fa133c</td>\n",
       "      <td>40.902645</td>\n",
       "      <td>-73.849485</td>\n",
       "      <td>7.401281</td>\n",
       "      <td>11.0</td>\n",
       "      <td>6.5</td>\n",
       "      <td>Big Mac®|Cheeseburger|Double Cheeseburger|Hamb...</td>\n",
       "      <td>0</td>\n",
       "    </tr>\n",
       "    <tr>\n",
       "      <th>2</th>\n",
       "      <td>5</td>\n",
       "      <td>241 St Cafe &amp; Restaurant</td>\n",
       "      <td>American Restaurant</td>\n",
       "      <td>1019.0</td>\n",
       "      <td>1</td>\n",
       "      <td>4c010e75cf3aa593825eccb0</td>\n",
       "      <td>40.903573</td>\n",
       "      <td>-73.850228</td>\n",
       "      <td>7.411729</td>\n",
       "      <td>15.0</td>\n",
       "      <td>6.6</td>\n",
       "      <td>NaN</td>\n",
       "      <td>0</td>\n",
       "    </tr>\n",
       "    <tr>\n",
       "      <th>3</th>\n",
       "      <td>8</td>\n",
       "      <td>Ripe Kitchen &amp; Bar</td>\n",
       "      <td>Caribbean Restaurant</td>\n",
       "      <td>798.0</td>\n",
       "      <td>1</td>\n",
       "      <td>4d375ce799fe8eec99fd2355</td>\n",
       "      <td>40.898152</td>\n",
       "      <td>-73.838875</td>\n",
       "      <td>8.553371</td>\n",
       "      <td>4.0</td>\n",
       "      <td>8.7</td>\n",
       "      <td>Cuban Plantain Boat|Jerk Chicken Quesadilla|St...</td>\n",
       "      <td>1</td>\n",
       "    </tr>\n",
       "  </tbody>\n",
       "</table>\n",
       "</div>"
      ],
      "text/plain": [
       "   Unnamed: 0                                   v_name                 v_cat  \\\n",
       "0           0  Cooler Runnings Jamaican Restaurant Inc  Caribbean Restaurant   \n",
       "1           1                               McDonald's  Fast Food Restaurant   \n",
       "2           5                 241 St Cafe & Restaurant   American Restaurant   \n",
       "3           8                       Ripe Kitchen & Bar  Caribbean Restaurant   \n",
       "\n",
       "   avg_dist_2_neighborhood  cnt_near_neighborhood             restaurant_id  \\\n",
       "0                    479.0                      1  508af256e4b0578944c87392   \n",
       "1                    904.0                      1  4be5f0eacf200f47d1fa133c   \n",
       "2                   1019.0                      1  4c010e75cf3aa593825eccb0   \n",
       "3                    798.0                      1  4d375ce799fe8eec99fd2355   \n",
       "\n",
       "         lat        lng  avg_rate  nearby_rec  rating  \\\n",
       "0  40.898276 -73.850381  4.530947        11.0     6.5   \n",
       "1  40.902645 -73.849485  7.401281        11.0     6.5   \n",
       "2  40.903573 -73.850228  7.411729        15.0     6.6   \n",
       "3  40.898152 -73.838875  8.553371         4.0     8.7   \n",
       "\n",
       "                                                menu label  \n",
       "0                                                NaN     0  \n",
       "1  Big Mac®|Cheeseburger|Double Cheeseburger|Hamb...     0  \n",
       "2                                                NaN     0  \n",
       "3  Cuban Plantain Boat|Jerk Chicken Quesadilla|St...     1  "
      ]
     },
     "execution_count": 39,
     "metadata": {},
     "output_type": "execute_result"
    }
   ],
   "source": [
    "df2.head(4)"
   ]
  },
  {
   "cell_type": "markdown",
   "metadata": {},
   "source": [
    "### 3.2 Transform text attribute by leveraging clustering algorithm"
   ]
  },
  {
   "cell_type": "markdown",
   "metadata": {},
   "source": [
    "Moving forward, the *menu* attribute. My gut feeling, the restaurant's menu definitely would influence the rating. But how? It's hard to use it on classification model directly, so we need to vectorize it. Text clustering is one possible way allocate the menu content into a certain category per its similarity to other menus, so restaurants with similar menu may compete on the same court, thus they have more chances to have similar rating.  "
   ]
  },
  {
   "cell_type": "code",
   "execution_count": 40,
   "metadata": {},
   "outputs": [
    {
     "name": "stdout",
     "output_type": "stream",
     "text": [
      "[nltk_data] Downloading package punkt to /home/jupyterlab/nltk_data...\n",
      "[nltk_data]   Package punkt is already up-to-date!\n",
      "[nltk_data] Downloading package stopwords to\n",
      "[nltk_data]     /home/jupyterlab/nltk_data...\n",
      "[nltk_data]   Package stopwords is already up-to-date!\n"
     ]
    },
    {
     "data": {
      "text/plain": [
       "True"
      ]
     },
     "execution_count": 40,
     "metadata": {},
     "output_type": "execute_result"
    }
   ],
   "source": [
    "import nltk\n",
    "from numpy import array\n",
    "from sklearn.cluster import KMeans\n",
    "from sklearn.cluster import DBSCAN\n",
    "from sklearn.externals import joblib\n",
    "from sklearn.feature_extraction.text import  TfidfVectorizer\n",
    "from nltk.corpus import stopwords\n",
    "import string\n",
    "import re\n",
    "nltk.download('punkt')\n",
    "nltk.download('stopwords')"
   ]
  },
  {
   "cell_type": "markdown",
   "metadata": {},
   "source": [
    "Before clustering the menus, let's have quick look on the menu data: "
   ]
  },
  {
   "cell_type": "code",
   "execution_count": 41,
   "metadata": {},
   "outputs": [
    {
     "data": {
      "text/plain": [
       "0                                           NoneUpload\n",
       "1    Big Mac®|Cheeseburger|Double Cheeseburger|Hamb...\n",
       "2                                           NoneUpload\n",
       "Name: menu, dtype: object"
      ]
     },
     "execution_count": 41,
     "metadata": {},
     "output_type": "execute_result"
    }
   ],
   "source": [
    "df2.fillna(\"NoneUpload\", inplace=True)\n",
    "menus=df2[\"menu\"]\n",
    "menus.head(3)"
   ]
  },
  {
   "cell_type": "markdown",
   "metadata": {},
   "source": [
    "First I need to clean the messy strings by:1)remove punctuations 2) remove  stop words 3) tokenize it and at last  make tokenize the string into \"words\".  These are typical NLP steps to clean up the text data, so I leveraged NLTK to do some of the data preprocessing."
   ]
  },
  {
   "cell_type": "code",
   "execution_count": 42,
   "metadata": {},
   "outputs": [],
   "source": [
    "swords = stopwords.words('english')\n",
    "swords.append(\"\")\n",
    "swords.extend(list(string.ascii_lowercase))"
   ]
  },
  {
   "cell_type": "code",
   "execution_count": 43,
   "metadata": {},
   "outputs": [],
   "source": [
    "def clean_text(text): # seperrate a string into word list, clean useless things\n",
    "    lst=[]\n",
    "    lx = text.lower()\n",
    "    lx = re.sub(r'[^\\w\\s]',' ',lx)\n",
    "    lx = re.sub(r'[\\d]',' ',lx)\n",
    "    lst = lx.split(\" \")\n",
    "    lx=lx.strip()\n",
    "    lst = [word for word in lst if word not in set(swords)]\n",
    "    return lst\n",
    "   "
   ]
  },
  {
   "cell_type": "code",
   "execution_count": 44,
   "metadata": {},
   "outputs": [],
   "source": [
    "menus=menus.apply(lambda x: \" \".join(clean_text(x)))\n",
    "sentences=menus.values"
   ]
  },
  {
   "cell_type": "markdown",
   "metadata": {},
   "source": [
    "There are many ways to turn text data to digital array, here I selected TF-IDF"
   ]
  },
  {
   "cell_type": "code",
   "execution_count": 45,
   "metadata": {},
   "outputs": [],
   "source": [
    "tfidf_vectorizer = TfidfVectorizer(tokenizer=clean_text)\n",
    "tfidf_matrix = tfidf_vectorizer.fit_transform(sentences)"
   ]
  },
  {
   "cell_type": "code",
   "execution_count": 46,
   "metadata": {},
   "outputs": [],
   "source": [
    "# from sklearn import metrics\n",
    "# scores = []\n",
    "# for k in range(2, 10):\n",
    "#     labels = KMeans(n_clusters=k,max_iter=300, n_init=40,init='k-means++',n_jobs=-1).fit(tfidf_matrix).labels_\n",
    "#     score = metrics.silhouette_score(tfidf_matrix, labels)\n",
    "#     scores.append(score)\n",
    "# print(scores)\n",
    "# we shall get K=8"
   ]
  },
  {
   "cell_type": "markdown",
   "metadata": {},
   "source": [
    "Then I invoke sklearn Kmeans lib to group up menus in to clusters "
   ]
  },
  {
   "cell_type": "code",
   "execution_count": 47,
   "metadata": {},
   "outputs": [
    {
     "name": "stdout",
     "output_type": "stream",
     "text": [
      "Clustering result: [1 6 1 5 1 1 2 5 1 5 1 2 4 1 2 1 1 1 1 1 1 1 1 2 1 1 3 3 3 1 3 1 3 1 5 1 4\n",
      " 1 1 1 1 2 1 1 1 1 7 1 1 1 0 1 1 6 7 1 1 1 0 1 4 1 1 7 1 1 1 4 5 1 7 1 1 6\n",
      " 1 5 1 2 6 1 5 2 5 4 5 1 4 1 1 1 1 4 1 4 1 2 5 1 1 1 5 0 3 4 1 1 1 1 2 1 1\n",
      " 2 5 7 1 3 5 0 5]\n"
     ]
    }
   ],
   "source": [
    "num_clusters = 8\n",
    "km_cluster = KMeans(n_clusters=num_clusters, max_iter=300, n_init=40, \n",
    "                    init='k-means++',n_jobs=-1)\n",
    "result = km_cluster.fit_predict(tfidf_matrix) \n",
    "print(\"Clustering result:\", result)"
   ]
  },
  {
   "cell_type": "markdown",
   "metadata": {},
   "source": [
    "Here I got the group of each menu, then will add this new attribute upon the feature dataframe."
   ]
  },
  {
   "cell_type": "code",
   "execution_count": 48,
   "metadata": {},
   "outputs": [],
   "source": [
    "df2[\"menu_group\"]= result"
   ]
  },
  {
   "cell_type": "code",
   "execution_count": 95,
   "metadata": {},
   "outputs": [
    {
     "data": {
      "text/html": [
       "<div>\n",
       "<style scoped>\n",
       "    .dataframe tbody tr th:only-of-type {\n",
       "        vertical-align: middle;\n",
       "    }\n",
       "\n",
       "    .dataframe tbody tr th {\n",
       "        vertical-align: top;\n",
       "    }\n",
       "\n",
       "    .dataframe thead th {\n",
       "        text-align: right;\n",
       "    }\n",
       "</style>\n",
       "<table border=\"1\" class=\"dataframe\">\n",
       "  <thead>\n",
       "    <tr style=\"text-align: right;\">\n",
       "      <th></th>\n",
       "      <th>Unnamed: 0</th>\n",
       "      <th>v_name</th>\n",
       "      <th>v_cat</th>\n",
       "      <th>avg_dist_2_neighborhood</th>\n",
       "      <th>cnt_near_neighborhood</th>\n",
       "      <th>restaurant_id</th>\n",
       "      <th>lat</th>\n",
       "      <th>lng</th>\n",
       "      <th>avg_rate</th>\n",
       "      <th>nearby_rec</th>\n",
       "      <th>rating</th>\n",
       "      <th>menu</th>\n",
       "      <th>label</th>\n",
       "      <th>menu_group</th>\n",
       "    </tr>\n",
       "  </thead>\n",
       "  <tbody>\n",
       "    <tr>\n",
       "      <th>0</th>\n",
       "      <td>0</td>\n",
       "      <td>Cooler Runnings Jamaican Restaurant Inc</td>\n",
       "      <td>Caribbean Restaurant</td>\n",
       "      <td>479.0</td>\n",
       "      <td>1</td>\n",
       "      <td>508af256e4b0578944c87392</td>\n",
       "      <td>40.898276</td>\n",
       "      <td>-73.850381</td>\n",
       "      <td>4.530947</td>\n",
       "      <td>11.0</td>\n",
       "      <td>6.5</td>\n",
       "      <td>NoneUpload</td>\n",
       "      <td>0</td>\n",
       "      <td>1</td>\n",
       "    </tr>\n",
       "    <tr>\n",
       "      <th>1</th>\n",
       "      <td>1</td>\n",
       "      <td>McDonald's</td>\n",
       "      <td>Fast Food Restaurant</td>\n",
       "      <td>904.0</td>\n",
       "      <td>1</td>\n",
       "      <td>4be5f0eacf200f47d1fa133c</td>\n",
       "      <td>40.902645</td>\n",
       "      <td>-73.849485</td>\n",
       "      <td>7.401281</td>\n",
       "      <td>11.0</td>\n",
       "      <td>6.5</td>\n",
       "      <td>Big Mac®|Cheeseburger|Double Cheeseburger|Hamb...</td>\n",
       "      <td>0</td>\n",
       "      <td>6</td>\n",
       "    </tr>\n",
       "    <tr>\n",
       "      <th>2</th>\n",
       "      <td>5</td>\n",
       "      <td>241 St Cafe &amp; Restaurant</td>\n",
       "      <td>American Restaurant</td>\n",
       "      <td>1019.0</td>\n",
       "      <td>1</td>\n",
       "      <td>4c010e75cf3aa593825eccb0</td>\n",
       "      <td>40.903573</td>\n",
       "      <td>-73.850228</td>\n",
       "      <td>7.411729</td>\n",
       "      <td>15.0</td>\n",
       "      <td>6.6</td>\n",
       "      <td>NoneUpload</td>\n",
       "      <td>0</td>\n",
       "      <td>1</td>\n",
       "    </tr>\n",
       "  </tbody>\n",
       "</table>\n",
       "</div>"
      ],
      "text/plain": [
       "   Unnamed: 0                                   v_name                 v_cat  \\\n",
       "0           0  Cooler Runnings Jamaican Restaurant Inc  Caribbean Restaurant   \n",
       "1           1                               McDonald's  Fast Food Restaurant   \n",
       "2           5                 241 St Cafe & Restaurant   American Restaurant   \n",
       "\n",
       "   avg_dist_2_neighborhood  cnt_near_neighborhood             restaurant_id  \\\n",
       "0                    479.0                      1  508af256e4b0578944c87392   \n",
       "1                    904.0                      1  4be5f0eacf200f47d1fa133c   \n",
       "2                   1019.0                      1  4c010e75cf3aa593825eccb0   \n",
       "\n",
       "         lat        lng  avg_rate  nearby_rec  rating  \\\n",
       "0  40.898276 -73.850381  4.530947        11.0     6.5   \n",
       "1  40.902645 -73.849485  7.401281        11.0     6.5   \n",
       "2  40.903573 -73.850228  7.411729        15.0     6.6   \n",
       "\n",
       "                                                menu label  menu_group  \n",
       "0                                         NoneUpload     0           1  \n",
       "1  Big Mac®|Cheeseburger|Double Cheeseburger|Hamb...     0           6  \n",
       "2                                         NoneUpload     0           1  "
      ]
     },
     "execution_count": 95,
     "metadata": {},
     "output_type": "execute_result"
    }
   ],
   "source": [
    "df2.head(3)"
   ]
  },
  {
   "cell_type": "markdown",
   "metadata": {},
   "source": [
    "Now, we finally have the matrix who will be used to train machiane learning models!"
   ]
  },
  {
   "cell_type": "code",
   "execution_count": 50,
   "metadata": {},
   "outputs": [],
   "source": [
    "df=df2[[\"v_cat\",\"avg_dist_2_neighborhood\",\"cnt_near_neighborhood\",\"avg_rate\",\"menu_group\",\"label\"]]"
   ]
  },
  {
   "cell_type": "code",
   "execution_count": 51,
   "metadata": {},
   "outputs": [
    {
     "data": {
      "text/html": [
       "<div>\n",
       "<style scoped>\n",
       "    .dataframe tbody tr th:only-of-type {\n",
       "        vertical-align: middle;\n",
       "    }\n",
       "\n",
       "    .dataframe tbody tr th {\n",
       "        vertical-align: top;\n",
       "    }\n",
       "\n",
       "    .dataframe thead th {\n",
       "        text-align: right;\n",
       "    }\n",
       "</style>\n",
       "<table border=\"1\" class=\"dataframe\">\n",
       "  <thead>\n",
       "    <tr style=\"text-align: right;\">\n",
       "      <th></th>\n",
       "      <th>v_cat</th>\n",
       "      <th>avg_dist_2_neighborhood</th>\n",
       "      <th>cnt_near_neighborhood</th>\n",
       "      <th>avg_rate</th>\n",
       "      <th>menu_group</th>\n",
       "      <th>label</th>\n",
       "    </tr>\n",
       "  </thead>\n",
       "  <tbody>\n",
       "    <tr>\n",
       "      <th>0</th>\n",
       "      <td>Caribbean Restaurant</td>\n",
       "      <td>479.0</td>\n",
       "      <td>1</td>\n",
       "      <td>4.530947</td>\n",
       "      <td>1</td>\n",
       "      <td>0</td>\n",
       "    </tr>\n",
       "    <tr>\n",
       "      <th>1</th>\n",
       "      <td>Fast Food Restaurant</td>\n",
       "      <td>904.0</td>\n",
       "      <td>1</td>\n",
       "      <td>7.401281</td>\n",
       "      <td>6</td>\n",
       "      <td>0</td>\n",
       "    </tr>\n",
       "    <tr>\n",
       "      <th>2</th>\n",
       "      <td>American Restaurant</td>\n",
       "      <td>1019.0</td>\n",
       "      <td>1</td>\n",
       "      <td>7.411729</td>\n",
       "      <td>1</td>\n",
       "      <td>0</td>\n",
       "    </tr>\n",
       "  </tbody>\n",
       "</table>\n",
       "</div>"
      ],
      "text/plain": [
       "                  v_cat  avg_dist_2_neighborhood  cnt_near_neighborhood  \\\n",
       "0  Caribbean Restaurant                    479.0                      1   \n",
       "1  Fast Food Restaurant                    904.0                      1   \n",
       "2   American Restaurant                   1019.0                      1   \n",
       "\n",
       "   avg_rate  menu_group label  \n",
       "0  4.530947           1     0  \n",
       "1  7.401281           6     0  \n",
       "2  7.411729           1     0  "
      ]
     },
     "execution_count": 51,
     "metadata": {},
     "output_type": "execute_result"
    }
   ],
   "source": [
    "df.head(3)"
   ]
  },
  {
   "cell_type": "code",
   "execution_count": 52,
   "metadata": {},
   "outputs": [
    {
     "data": {
      "text/plain": [
       "(119, 6)"
      ]
     },
     "execution_count": 52,
     "metadata": {},
     "output_type": "execute_result"
    }
   ],
   "source": [
    "df.shape"
   ]
  },
  {
   "cell_type": "markdown",
   "metadata": {},
   "source": [
    "### 3.3 Transform dummy variables to one-hot encoded values"
   ]
  },
  {
   "cell_type": "markdown",
   "metadata": {},
   "source": [
    "The last step is to working on the dummy variable(menu group and category). I will use the panda's method 'get_dummies' to assign numerical values to them."
   ]
  },
  {
   "cell_type": "code",
   "execution_count": 53,
   "metadata": {},
   "outputs": [],
   "source": [
    "dummy_variable_1 = pd.get_dummies(df[\"v_cat\"])\n",
    "dummy_variable_2 = pd.get_dummies(df[\"menu_group\"])"
   ]
  },
  {
   "cell_type": "code",
   "execution_count": 54,
   "metadata": {},
   "outputs": [],
   "source": [
    "df = pd.concat([df, dummy_variable_1], axis=1)\n",
    "df.drop(\"v_cat\", axis = 1, inplace=True)"
   ]
  },
  {
   "cell_type": "code",
   "execution_count": 55,
   "metadata": {},
   "outputs": [],
   "source": [
    "df = pd.concat([df, dummy_variable_2], axis=1)\n",
    "df.drop(\"menu_group\", axis = 1, inplace=True)"
   ]
  },
  {
   "cell_type": "code",
   "execution_count": 56,
   "metadata": {},
   "outputs": [
    {
     "data": {
      "text/html": [
       "<div>\n",
       "<style scoped>\n",
       "    .dataframe tbody tr th:only-of-type {\n",
       "        vertical-align: middle;\n",
       "    }\n",
       "\n",
       "    .dataframe tbody tr th {\n",
       "        vertical-align: top;\n",
       "    }\n",
       "\n",
       "    .dataframe thead th {\n",
       "        text-align: right;\n",
       "    }\n",
       "</style>\n",
       "<table border=\"1\" class=\"dataframe\">\n",
       "  <thead>\n",
       "    <tr style=\"text-align: right;\">\n",
       "      <th></th>\n",
       "      <th>avg_dist_2_neighborhood</th>\n",
       "      <th>cnt_near_neighborhood</th>\n",
       "      <th>avg_rate</th>\n",
       "      <th>label</th>\n",
       "      <th>African Restaurant</th>\n",
       "      <th>American Restaurant</th>\n",
       "      <th>Asian Restaurant</th>\n",
       "      <th>Bakery</th>\n",
       "      <th>Bar</th>\n",
       "      <th>Breakfast Spot</th>\n",
       "      <th>Café</th>\n",
       "      <th>Caribbean Restaurant</th>\n",
       "      <th>Chinese Restaurant</th>\n",
       "      <th>Coffee Shop</th>\n",
       "      <th>Cuban Restaurant</th>\n",
       "      <th>Deli / Bodega</th>\n",
       "      <th>Diner</th>\n",
       "      <th>Fast Food Restaurant</th>\n",
       "      <th>Gourmet Shop</th>\n",
       "      <th>Indian Restaurant</th>\n",
       "      <th>Italian Restaurant</th>\n",
       "      <th>Japanese Restaurant</th>\n",
       "      <th>Kitchen Supply Store</th>\n",
       "      <th>Latin American Restaurant</th>\n",
       "      <th>Mexican Restaurant</th>\n",
       "      <th>Other Nightlife</th>\n",
       "      <th>Paella Restaurant</th>\n",
       "      <th>Pizza Place</th>\n",
       "      <th>Pub</th>\n",
       "      <th>Restaurant</th>\n",
       "      <th>Sandwich Place</th>\n",
       "      <th>Seafood Restaurant</th>\n",
       "      <th>Spanish Restaurant</th>\n",
       "      <th>Sushi Restaurant</th>\n",
       "      <th>Thai Restaurant</th>\n",
       "      <th>0</th>\n",
       "      <th>1</th>\n",
       "      <th>2</th>\n",
       "      <th>3</th>\n",
       "      <th>4</th>\n",
       "      <th>5</th>\n",
       "      <th>6</th>\n",
       "      <th>7</th>\n",
       "    </tr>\n",
       "  </thead>\n",
       "  <tbody>\n",
       "    <tr>\n",
       "      <th>0</th>\n",
       "      <td>479.0</td>\n",
       "      <td>1</td>\n",
       "      <td>4.530947</td>\n",
       "      <td>0</td>\n",
       "      <td>0</td>\n",
       "      <td>0</td>\n",
       "      <td>0</td>\n",
       "      <td>0</td>\n",
       "      <td>0</td>\n",
       "      <td>0</td>\n",
       "      <td>0</td>\n",
       "      <td>1</td>\n",
       "      <td>0</td>\n",
       "      <td>0</td>\n",
       "      <td>0</td>\n",
       "      <td>0</td>\n",
       "      <td>0</td>\n",
       "      <td>0</td>\n",
       "      <td>0</td>\n",
       "      <td>0</td>\n",
       "      <td>0</td>\n",
       "      <td>0</td>\n",
       "      <td>0</td>\n",
       "      <td>0</td>\n",
       "      <td>0</td>\n",
       "      <td>0</td>\n",
       "      <td>0</td>\n",
       "      <td>0</td>\n",
       "      <td>0</td>\n",
       "      <td>0</td>\n",
       "      <td>0</td>\n",
       "      <td>0</td>\n",
       "      <td>0</td>\n",
       "      <td>0</td>\n",
       "      <td>0</td>\n",
       "      <td>0</td>\n",
       "      <td>1</td>\n",
       "      <td>0</td>\n",
       "      <td>0</td>\n",
       "      <td>0</td>\n",
       "      <td>0</td>\n",
       "      <td>0</td>\n",
       "      <td>0</td>\n",
       "    </tr>\n",
       "    <tr>\n",
       "      <th>1</th>\n",
       "      <td>904.0</td>\n",
       "      <td>1</td>\n",
       "      <td>7.401281</td>\n",
       "      <td>0</td>\n",
       "      <td>0</td>\n",
       "      <td>0</td>\n",
       "      <td>0</td>\n",
       "      <td>0</td>\n",
       "      <td>0</td>\n",
       "      <td>0</td>\n",
       "      <td>0</td>\n",
       "      <td>0</td>\n",
       "      <td>0</td>\n",
       "      <td>0</td>\n",
       "      <td>0</td>\n",
       "      <td>0</td>\n",
       "      <td>0</td>\n",
       "      <td>1</td>\n",
       "      <td>0</td>\n",
       "      <td>0</td>\n",
       "      <td>0</td>\n",
       "      <td>0</td>\n",
       "      <td>0</td>\n",
       "      <td>0</td>\n",
       "      <td>0</td>\n",
       "      <td>0</td>\n",
       "      <td>0</td>\n",
       "      <td>0</td>\n",
       "      <td>0</td>\n",
       "      <td>0</td>\n",
       "      <td>0</td>\n",
       "      <td>0</td>\n",
       "      <td>0</td>\n",
       "      <td>0</td>\n",
       "      <td>0</td>\n",
       "      <td>0</td>\n",
       "      <td>0</td>\n",
       "      <td>0</td>\n",
       "      <td>0</td>\n",
       "      <td>0</td>\n",
       "      <td>0</td>\n",
       "      <td>1</td>\n",
       "      <td>0</td>\n",
       "    </tr>\n",
       "    <tr>\n",
       "      <th>2</th>\n",
       "      <td>1019.0</td>\n",
       "      <td>1</td>\n",
       "      <td>7.411729</td>\n",
       "      <td>0</td>\n",
       "      <td>0</td>\n",
       "      <td>1</td>\n",
       "      <td>0</td>\n",
       "      <td>0</td>\n",
       "      <td>0</td>\n",
       "      <td>0</td>\n",
       "      <td>0</td>\n",
       "      <td>0</td>\n",
       "      <td>0</td>\n",
       "      <td>0</td>\n",
       "      <td>0</td>\n",
       "      <td>0</td>\n",
       "      <td>0</td>\n",
       "      <td>0</td>\n",
       "      <td>0</td>\n",
       "      <td>0</td>\n",
       "      <td>0</td>\n",
       "      <td>0</td>\n",
       "      <td>0</td>\n",
       "      <td>0</td>\n",
       "      <td>0</td>\n",
       "      <td>0</td>\n",
       "      <td>0</td>\n",
       "      <td>0</td>\n",
       "      <td>0</td>\n",
       "      <td>0</td>\n",
       "      <td>0</td>\n",
       "      <td>0</td>\n",
       "      <td>0</td>\n",
       "      <td>0</td>\n",
       "      <td>0</td>\n",
       "      <td>0</td>\n",
       "      <td>1</td>\n",
       "      <td>0</td>\n",
       "      <td>0</td>\n",
       "      <td>0</td>\n",
       "      <td>0</td>\n",
       "      <td>0</td>\n",
       "      <td>0</td>\n",
       "    </tr>\n",
       "  </tbody>\n",
       "</table>\n",
       "</div>"
      ],
      "text/plain": [
       "   avg_dist_2_neighborhood  cnt_near_neighborhood  avg_rate label  \\\n",
       "0                    479.0                      1  4.530947     0   \n",
       "1                    904.0                      1  7.401281     0   \n",
       "2                   1019.0                      1  7.411729     0   \n",
       "\n",
       "   African Restaurant  American Restaurant  Asian Restaurant  Bakery  Bar  \\\n",
       "0                   0                    0                 0       0    0   \n",
       "1                   0                    0                 0       0    0   \n",
       "2                   0                    1                 0       0    0   \n",
       "\n",
       "   Breakfast Spot  Café  Caribbean Restaurant  Chinese Restaurant  \\\n",
       "0               0     0                     1                   0   \n",
       "1               0     0                     0                   0   \n",
       "2               0     0                     0                   0   \n",
       "\n",
       "   Coffee Shop  Cuban Restaurant  Deli / Bodega  Diner  Fast Food Restaurant  \\\n",
       "0            0                 0              0      0                     0   \n",
       "1            0                 0              0      0                     1   \n",
       "2            0                 0              0      0                     0   \n",
       "\n",
       "   Gourmet Shop  Indian Restaurant  Italian Restaurant  Japanese Restaurant  \\\n",
       "0             0                  0                   0                    0   \n",
       "1             0                  0                   0                    0   \n",
       "2             0                  0                   0                    0   \n",
       "\n",
       "   Kitchen Supply Store  Latin American Restaurant  Mexican Restaurant  \\\n",
       "0                     0                          0                   0   \n",
       "1                     0                          0                   0   \n",
       "2                     0                          0                   0   \n",
       "\n",
       "   Other Nightlife  Paella Restaurant  Pizza Place  Pub  Restaurant  \\\n",
       "0                0                  0            0    0           0   \n",
       "1                0                  0            0    0           0   \n",
       "2                0                  0            0    0           0   \n",
       "\n",
       "   Sandwich Place  Seafood Restaurant  Spanish Restaurant  Sushi Restaurant  \\\n",
       "0               0                   0                   0                 0   \n",
       "1               0                   0                   0                 0   \n",
       "2               0                   0                   0                 0   \n",
       "\n",
       "   Thai Restaurant  0  1  2  3  4  5  6  7  \n",
       "0                0  0  1  0  0  0  0  0  0  \n",
       "1                0  0  0  0  0  0  0  1  0  \n",
       "2                0  0  1  0  0  0  0  0  0  "
      ]
     },
     "execution_count": 56,
     "metadata": {},
     "output_type": "execute_result"
    }
   ],
   "source": [
    "df.head(3)"
   ]
  },
  {
   "cell_type": "markdown",
   "metadata": {},
   "source": [
    "### 3.4 Classification model"
   ]
  },
  {
   "cell_type": "markdown",
   "metadata": {},
   "source": [
    "The classification models was much more straightforward, with the location and food input features, I need to predict whether these choices , combine together, will bring up one success(1) or failed(0) business.\n",
    "Here I have all the data for model training, I will divide them into training set and validation set:"
   ]
  },
  {
   "cell_type": "code",
   "execution_count": 57,
   "metadata": {},
   "outputs": [],
   "source": [
    "y=  np.asarray(df[\"label\"].astype(\"int\"))\n",
    "X=  np.asarray(df.drop(\"label\", axis=1))"
   ]
  },
  {
   "cell_type": "code",
   "execution_count": 80,
   "metadata": {},
   "outputs": [
    {
     "name": "stdout",
     "output_type": "stream",
     "text": [
      "Train set: (95, 42) (95,)\n",
      "Test set: (24, 42) (24,)\n"
     ]
    }
   ],
   "source": [
    "# As I don't have much data as Foursquare access limittation, I would rather pu more% for traning\n",
    "X_train, X_test, y_train, y_test = train_test_split( X, y, test_size=0.2, random_state=4)\n",
    "print ('Train set:', X_train.shape,  y_train.shape)\n",
    "print ('Test set:', X_test.shape,  y_test.shape)"
   ]
  },
  {
   "cell_type": "code",
   "execution_count": 86,
   "metadata": {},
   "outputs": [
    {
     "data": {
      "text/plain": [
       "LogisticRegression(C=0.1, class_weight={1: 0.65, 0: 0.35}, dual=False,\n",
       "          fit_intercept=True, intercept_scaling=1, max_iter=100,\n",
       "          multi_class='warn', n_jobs=None, penalty='l2', random_state=None,\n",
       "          solver='liblinear', tol=0.0001, verbose=0, warm_start=False)"
      ]
     },
     "execution_count": 86,
     "metadata": {},
     "output_type": "execute_result"
    }
   ],
   "source": [
    "from sklearn.linear_model import LogisticRegression\n",
    "from sklearn.metrics import confusion_matrix\n",
    "LR = LogisticRegression(C=0.1, solver='liblinear',class_weight={1:0.65,0:0.35}).fit(X_train,y_train)\n",
    "LR"
   ]
  },
  {
   "cell_type": "code",
   "execution_count": 87,
   "metadata": {},
   "outputs": [
    {
     "data": {
      "text/plain": [
       "array([1, 0, 0, 0, 0, 0, 0, 0, 0, 0, 0, 1, 0, 0, 0, 0, 1, 0, 1, 1, 0, 0,\n",
       "       0, 0])"
      ]
     },
     "execution_count": 87,
     "metadata": {},
     "output_type": "execute_result"
    }
   ],
   "source": [
    "yhat = LR.predict(X_test)\n",
    "yhat"
   ]
  },
  {
   "cell_type": "markdown",
   "metadata": {},
   "source": [
    "Lets try jaccard index for accuracy evaluation"
   ]
  },
  {
   "cell_type": "code",
   "execution_count": 88,
   "metadata": {},
   "outputs": [
    {
     "data": {
      "text/plain": [
       "0.7083333333333334"
      ]
     },
     "execution_count": 88,
     "metadata": {},
     "output_type": "execute_result"
    }
   ],
   "source": [
    "from sklearn.metrics import jaccard_similarity_score\n",
    "jaccard_similarity_score(y_test, yhat)"
   ]
  },
  {
   "cell_type": "markdown",
   "metadata": {},
   "source": [
    "### 3.5 Evaluation"
   ]
  },
  {
   "cell_type": "markdown",
   "metadata": {},
   "source": [
    "Now , from a comprehensive angle, look at accuracy of classifier through confusion matrix."
   ]
  },
  {
   "cell_type": "code",
   "execution_count": 92,
   "metadata": {},
   "outputs": [
    {
     "name": "stdout",
     "output_type": "stream",
     "text": [
      "[[ 3  5]\n",
      " [ 2 14]]\n"
     ]
    }
   ],
   "source": [
    "from sklearn.metrics import classification_report, confusion_matrix\n",
    "import itertools\n",
    "print(confusion_matrix(y_test, yhat, labels=[1,0]))"
   ]
  },
  {
   "cell_type": "code",
   "execution_count": 93,
   "metadata": {},
   "outputs": [],
   "source": [
    "# Compute confusion matrix\n",
    "\n",
    "def plot_confusion_matrix(cm, classes,\n",
    "                          normalize=False,\n",
    "                          title='Confusion matrix',\n",
    "                          cmap=plt.cm.Blues):\n",
    "    \"\"\"\n",
    "    This function prints and plots the confusion matrix.\n",
    "    Normalization can be applied by setting `normalize=True`.\n",
    "    \"\"\"\n",
    "    if normalize:\n",
    "        cm = cm.astype('float') / cm.sum(axis=1)[:, np.newaxis]\n",
    "        print(\"Normalized confusion matrix\")\n",
    "    else:\n",
    "        print('Confusion matrix, without normalization')\n",
    "\n",
    "    print(cm)\n",
    "\n",
    "    plt.imshow(cm, interpolation='nearest', cmap=cmap)\n",
    "    plt.title(title)\n",
    "    plt.colorbar()\n",
    "    tick_marks = np.arange(len(classes))\n",
    "    plt.xticks(tick_marks, classes, rotation=45)\n",
    "    plt.yticks(tick_marks, classes)\n",
    "\n",
    "    fmt = '.2f' if normalize else 'd'\n",
    "    thresh = cm.max() / 2.\n",
    "    for i, j in itertools.product(range(cm.shape[0]), range(cm.shape[1])):\n",
    "        plt.text(j, i, format(cm[i, j], fmt),\n",
    "                 horizontalalignment=\"center\",\n",
    "                 color=\"white\" if cm[i, j] > thresh else \"black\")\n",
    "\n",
    "    plt.tight_layout()\n",
    "    plt.ylabel('True label')\n",
    "    plt.xlabel('Predicted label')\n",
    "    "
   ]
  },
  {
   "cell_type": "code",
   "execution_count": 94,
   "metadata": {},
   "outputs": [
    {
     "name": "stdout",
     "output_type": "stream",
     "text": [
      "Confusion matrix, without normalization\n",
      "[[ 3  5]\n",
      " [ 2 14]]\n"
     ]
    },
    {
     "data": {
      "image/png": "[encoded data removed]",
      "text/plain": [
       "<Figure size 432x288 with 2 Axes>"
      ]
     },
     "metadata": {
      "needs_background": "light"
     },
     "output_type": "display_data"
    }
   ],
   "source": [
    "cnf_matrix = confusion_matrix(y_test, yhat, labels=[1,0])\n",
    "np.set_printoptions(precision=2)\n",
    "# Plot non-normalized confusion matrix\n",
    "plt.figure()\n",
    "plot_confusion_matrix(cnf_matrix, classes=['churn=1','churn=0'],normalize= False,  title='Confusion matrix')"
   ]
  },
  {
   "cell_type": "markdown",
   "metadata": {},
   "source": [
    "Theis classifier correctly predicted 14 of 16 as 0, so, it has done a good job in predicting the higher risk of bad rating in future. Meanwhile 5 of good rating prediction inccorectly to risky, this is bit high. Anyway, think nowthat avoiding risk is our goal, it is accceptable. "
   ]
  },
  {
   "cell_type": "code",
   "execution_count": null,
   "metadata": {},
   "outputs": [],
   "source": []
  }
 ],
 "metadata": {
  "kernelspec": {
   "display_name": "Python 3",
   "language": "python",
   "name": "python3"
  },
  "language_info": {
   "codemirror_mode": {
    "name": "ipython",
    "version": 3
   },
   "file_extension": ".py",
   "mimetype": "text/x-python",
   "name": "python",
   "nbconvert_exporter": "python",
   "pygments_lexer": "ipython3",
   "version": "3.6.8"
  }
 },
 "nbformat": 4,
 "nbformat_minor": 2
}
